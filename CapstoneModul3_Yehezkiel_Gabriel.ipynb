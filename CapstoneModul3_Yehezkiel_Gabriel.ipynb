{
  "cells": [
    {
      "cell_type": "markdown",
      "metadata": {
        "id": "9VBYbnyGq5vN"
      },
      "source": [
        "**Bike Sharing**"
      ]
    },
    {
      "cell_type": "markdown",
      "metadata": {
        "id": "hU48NdYGt9eR"
      },
      "source": [
        "[Sumber data Bike Sharing](https://drive.google.com/file/d/1lSbp2GTSgE8jwvA2K8rlLRZIUTWNNfXe/view) \n",
        "\n",
        "### **Contents**\n",
        "\n",
        "1. Business Problem Understanding\n",
        "2. Data Understanding\n",
        "3. Data Preprocessing\n",
        "4. Modeling\n",
        "5. Conclusion\n",
        "6. Recommendation\n",
        "\n",
        "****"
      ]
    },
    {
      "cell_type": "markdown",
      "metadata": {
        "id": "7eew1pevtz-W"
      },
      "source": [
        "### **Business Problem Understanding**"
      ]
    },
    {
      "cell_type": "markdown",
      "metadata": {
        "id": "tWQMCUPeuS0Q"
      },
      "source": [
        "**Context**\n",
        "\n",
        "Sistem Bike-sharing merupakan generasi baru dari rental sepeda dimana seluruh proses dari keanggotaan, penyewaan, dan pengembalian telah dilakukan secara otomatis. Melalui sistem ini, pengguna dapat dengan mudah menyewa sepeda dari tempat tertentu dan mengembalikannya di tempat lain.\n",
        "\n",
        "Sebuah perusahaan penyedia bike-sharing sedang mengembangkan bisnisnya dan berusaha untuk meningkatkan pendapatan yang dimiliki. Oleh karena itu, perusahaan memutuskan untuk menyiapkan sebuah strategi bisnis yang tepat untuk meningkatkan pendapatannya. Dalam menyiapkan hal tersebut, perusahaan ingin memahami mengenai permintaan masyarakat terhadap rental sepeda. Dengan memahami hal tersebut, perusahaan berencana untuk mempersiapkan diri untuk memenuhi kebutuhan masyarakat.\n",
        "\n",
        "Perusahaan melakukan kontrak dengan perusahaan konsultan pada bidang data untuk mengetahui faktor-faktor yang mempengaruhi permintaan terhadap rental sepeda, secara khusus di Amerika. Perusahaan ingin mengetahui variabel yang signifikan dalam memprediksi permintaan rental sepeda dan seberapa baik variabel tersebut menjelaskan permintaan terhadap rental sepeda. Perusahaan juga ingin mengetahui jumlah sepeda yang harus disiapkan dengan tepat sesuai dengan kebutuhan masyarakat pada berbagai kondisi cuaca."
      ]
    },
    {
      "cell_type": "markdown",
      "metadata": {
        "id": "WWi9Vp-NuWVx"
      },
      "source": [
        "**Problem Statement**\n",
        "\n",
        "Dalam membuat strategi bisnis yang tepat untuk meningkatkan pendapatan, perusahaan perlu memahami faktor-faktor apa saja yang mempengaruhi permintaan rental sepeda. Selain itu, untuk mendapatkan pendapatan yang maksimal, perusahaan perlu untuk menyediakan jumlah sepeda yang tepat sesuai dengan kebutuhan masyarakat. Apabila jumlah sepeda terlalu sedikit, maka perusahaan akan kehilangan potensi pendapatan. Di sisi lain, apabila jumlah sepeda terlalu banyak, perusahan akan mengalami kerugian."
      ]
    },
    {
      "cell_type": "markdown",
      "metadata": {
        "id": "dlqya4xguWTM"
      },
      "source": [
        "**Goals**\n",
        "\n",
        "Berdasarkan permasalahan tersebut, perusahaan memerlukan 'tool' yang dapat membantu mereka dalam menentukan jumlah sepeda yang dibutuhkan dalam berbagai kondisi cuaca yang sedang terjadi."
      ]
    },
    {
      "cell_type": "markdown",
      "metadata": {
        "id": "WALLygSLuWQh"
      },
      "source": [
        "**Analytic Approach**\n",
        "\n",
        "Jadi, yang akan dilakukan adalah menganalisis data untuk dapat menemukan pola dari fitur-fitur yang ada dalam menentukan jumlah penyewa sepeda pada berbagai kondisi cuaca.\n",
        "\n",
        "Selanjutnya, kita akan membangun suatu model regresi yang akan membantu perusahaan untuk dapat menyediakan 'tool' prediksi jumlah penyewa sepeda yang akan membantu perusahaan dalam menentukan jumlah sepeda yang dibutuhkan serta tren penyewa sepeda pada kondisi tertentu."
      ]
    },
    {
      "cell_type": "markdown",
      "metadata": {
        "id": "-g6Ln1RUuV3g"
      },
      "source": [
        "**Metric Evaluation**\n",
        "\n",
        "Evaluasi metrik yang akan digunakan adalah RMSE, MAE, dan MAPE, di mana RMSE adalah nilai rataan akar kuadrat dari error, MAE adalah rataan nilai absolut dari error, sedangkan MAPE adalah rataan persentase error yang dihasilkan oleh model regresi. Semakin kecil nilai RMSE, MAE, dan MAPE yang dihasilkan, berarti model semakin akurat dalam memprediksi jumlah rental sepeda sesuai dengan limitasi fitur yang digunakan.\n"
      ]
    },
    {
      "cell_type": "markdown",
      "metadata": {
        "id": "Q6F0tlJTC-KT"
      },
      "source": [
        "### **Data Understanding**\n",
        "\n",
        "\n",
        "*   Dataset merupakan data jumlah penyewaan sepeda pada tahun 2011-2012 di Amerika\n",
        "*   Setiap baris data merepresentasikan informasi terkait penyewaan sepeda per hari\n",
        "\n",
        "**Attributes Information**\n",
        "\n",
        "| **Attribute** | **Data Type** | **Description** |\n",
        "| --- | --- | --- |\n",
        "| dteday | Datetime | date |\n",
        "| hum | Float | Normalized humidity. The values are divided to 100 (max) |\n",
        "| weathersit | Integer |  weather  <br>1 =  Clear, Few clouds, Partly cloudy, Partly cloudy<br>2 = Mist + Cloudy, Mist + Broken clouds, Mist + Few clouds, Mist<br>3 = Light Snow, Light Rain + Thunderstorm + Scattered clouds, Light Rain +   Scattered clouds<br>4 = Heavy Rain + Ice Pallets + Thunderstorm + Mist, Snow + Fog|\n",
        "| holiday | Integer | holiday or not |\n",
        "| season | Integer | season <br>1: winter<br>2: spring<br>3: summer<br>4: fall |\n",
        "| atemp | Float | Normalized feeling temperature in Celsius. The values are derived via (t-tmin)/(tmax-tmin), tmin=-16, t_max=+50 (only in hourly scale) |\n",
        "| temp | Float | Normalized temperature in Celsius. The values are derived via (t-tmin)/(tmax-tmin), tmin=-8, t_max=+39 (only in hourly scale) |\n",
        "| hr | Integer | hour (0 to 23) |\n",
        "| casual | Integer | count of casual users |\n",
        "| registered | Integer | count of registered users |\n",
        "| cnt | Integer | count of total rental bikes including both casual and registered |\n",
        "\n",
        "\n"
      ]
    },
    {
      "cell_type": "code",
      "execution_count": 1,
      "metadata": {
        "id": "oUUVAOViFgnn"
      },
      "outputs": [],
      "source": [
        "# Import library yang dibutuhkan untuk eksplorasi dataset\n",
        "import pandas as pd \n",
        "import numpy as np\n",
        "import matplotlib.pyplot as plt\n",
        "import seaborn as sns\n",
        "\n",
        "import warnings\n",
        "warnings.filterwarnings('ignore')"
      ]
    },
    {
      "cell_type": "code",
      "execution_count": 60,
      "metadata": {
        "colab": {
          "base_uri": "https://localhost:8080/",
          "height": 206
        },
        "id": "ynW8AAhBH_cu",
        "outputId": "f048d657-1a4d-4a5a-cd5c-8ce7e25db49c"
      },
      "outputs": [
        {
          "data": {
            "text/html": [
              "<div>\n",
              "<style scoped>\n",
              "    .dataframe tbody tr th:only-of-type {\n",
              "        vertical-align: middle;\n",
              "    }\n",
              "\n",
              "    .dataframe tbody tr th {\n",
              "        vertical-align: top;\n",
              "    }\n",
              "\n",
              "    .dataframe thead th {\n",
              "        text-align: right;\n",
              "    }\n",
              "</style>\n",
              "<table border=\"1\" class=\"dataframe\">\n",
              "  <thead>\n",
              "    <tr style=\"text-align: right;\">\n",
              "      <th></th>\n",
              "      <th>dteday</th>\n",
              "      <th>hum</th>\n",
              "      <th>weathersit</th>\n",
              "      <th>holiday</th>\n",
              "      <th>season</th>\n",
              "      <th>atemp</th>\n",
              "      <th>temp</th>\n",
              "      <th>hr</th>\n",
              "      <th>casual</th>\n",
              "      <th>registered</th>\n",
              "      <th>cnt</th>\n",
              "    </tr>\n",
              "  </thead>\n",
              "  <tbody>\n",
              "    <tr>\n",
              "      <th>0</th>\n",
              "      <td>2011-12-09</td>\n",
              "      <td>0.62</td>\n",
              "      <td>1</td>\n",
              "      <td>0</td>\n",
              "      <td>4</td>\n",
              "      <td>0.3485</td>\n",
              "      <td>0.36</td>\n",
              "      <td>16</td>\n",
              "      <td>24</td>\n",
              "      <td>226</td>\n",
              "      <td>250</td>\n",
              "    </tr>\n",
              "    <tr>\n",
              "      <th>1</th>\n",
              "      <td>2012-06-17</td>\n",
              "      <td>0.64</td>\n",
              "      <td>1</td>\n",
              "      <td>0</td>\n",
              "      <td>2</td>\n",
              "      <td>0.5152</td>\n",
              "      <td>0.54</td>\n",
              "      <td>4</td>\n",
              "      <td>2</td>\n",
              "      <td>16</td>\n",
              "      <td>18</td>\n",
              "    </tr>\n",
              "    <tr>\n",
              "      <th>2</th>\n",
              "      <td>2011-06-15</td>\n",
              "      <td>0.53</td>\n",
              "      <td>1</td>\n",
              "      <td>0</td>\n",
              "      <td>2</td>\n",
              "      <td>0.6212</td>\n",
              "      <td>0.62</td>\n",
              "      <td>23</td>\n",
              "      <td>17</td>\n",
              "      <td>90</td>\n",
              "      <td>107</td>\n",
              "    </tr>\n",
              "    <tr>\n",
              "      <th>3</th>\n",
              "      <td>2012-03-31</td>\n",
              "      <td>0.87</td>\n",
              "      <td>2</td>\n",
              "      <td>0</td>\n",
              "      <td>2</td>\n",
              "      <td>0.3485</td>\n",
              "      <td>0.36</td>\n",
              "      <td>8</td>\n",
              "      <td>19</td>\n",
              "      <td>126</td>\n",
              "      <td>145</td>\n",
              "    </tr>\n",
              "    <tr>\n",
              "      <th>4</th>\n",
              "      <td>2012-07-31</td>\n",
              "      <td>0.55</td>\n",
              "      <td>1</td>\n",
              "      <td>0</td>\n",
              "      <td>3</td>\n",
              "      <td>0.6970</td>\n",
              "      <td>0.76</td>\n",
              "      <td>18</td>\n",
              "      <td>99</td>\n",
              "      <td>758</td>\n",
              "      <td>857</td>\n",
              "    </tr>\n",
              "  </tbody>\n",
              "</table>\n",
              "</div>"
            ],
            "text/plain": [
              "       dteday   hum  weathersit  holiday  season   atemp  temp  hr  casual  \\\n",
              "0  2011-12-09  0.62           1        0       4  0.3485  0.36  16      24   \n",
              "1  2012-06-17  0.64           1        0       2  0.5152  0.54   4       2   \n",
              "2  2011-06-15  0.53           1        0       2  0.6212  0.62  23      17   \n",
              "3  2012-03-31  0.87           2        0       2  0.3485  0.36   8      19   \n",
              "4  2012-07-31  0.55           1        0       3  0.6970  0.76  18      99   \n",
              "\n",
              "   registered  cnt  \n",
              "0         226  250  \n",
              "1          16   18  \n",
              "2          90  107  \n",
              "3         126  145  \n",
              "4         758  857  "
            ]
          },
          "execution_count": 60,
          "metadata": {},
          "output_type": "execute_result"
        }
      ],
      "source": [
        "# Load Dataset\n",
        "df = pd.read_csv('data_bike_sharing.csv')\n",
        "df.head()"
      ]
    },
    {
      "cell_type": "markdown",
      "metadata": {
        "id": "C4KC83EnKSWh"
      },
      "source": [
        "**Data Manipulation**"
      ]
    },
    {
      "cell_type": "code",
      "execution_count": 61,
      "metadata": {
        "id": "O4v4RuixKVnV"
      },
      "outputs": [],
      "source": [
        "#Convert data type 'dteday' menjadi date time\n",
        "\n",
        "df['dteday'] = pd.to_datetime(df['dteday'])"
      ]
    },
    {
      "cell_type": "code",
      "execution_count": 62,
      "metadata": {
        "colab": {
          "base_uri": "https://localhost:8080/"
        },
        "id": "XZjQKdULRDiX",
        "outputId": "708b16b0-b6fb-4f8b-8e53-7cd709b8e894"
      },
      "outputs": [
        {
          "name": "stdout",
          "output_type": "stream",
          "text": [
            "<class 'pandas.core.frame.DataFrame'>\n",
            "RangeIndex: 12165 entries, 0 to 12164\n",
            "Data columns (total 11 columns):\n",
            " #   Column      Non-Null Count  Dtype         \n",
            "---  ------      --------------  -----         \n",
            " 0   dteday      12165 non-null  datetime64[ns]\n",
            " 1   hum         12165 non-null  float64       \n",
            " 2   weathersit  12165 non-null  int64         \n",
            " 3   holiday     12165 non-null  int64         \n",
            " 4   season      12165 non-null  int64         \n",
            " 5   atemp       12165 non-null  float64       \n",
            " 6   temp        12165 non-null  float64       \n",
            " 7   hr          12165 non-null  int64         \n",
            " 8   casual      12165 non-null  int64         \n",
            " 9   registered  12165 non-null  int64         \n",
            " 10  cnt         12165 non-null  int64         \n",
            "dtypes: datetime64[ns](1), float64(3), int64(7)\n",
            "memory usage: 1.0 MB\n"
          ]
        }
      ],
      "source": [
        "df.info()"
      ]
    },
    {
      "cell_type": "code",
      "execution_count": 64,
      "metadata": {
        "id": "1IZYtGiKPeb8"
      },
      "outputs": [],
      "source": [
        "#Menambahkan feature nama hari\n",
        "df['weekday'] = df['dteday'].dt.day_of_week\n",
        "\n",
        "#Menambahkan feature bulan\n",
        "df['month'] = df['dteday'].dt.month\n",
        "\n",
        "#Menambahkan feature tahun\n",
        "df['year'] = df['dteday'].dt.year\n",
        "\n",
        "#Merubah tipe data\n",
        "df['weekday'] = df['weekday'].astype('category')\n",
        "df['weathersit'] = df['weathersit'].astype('category')\n",
        "df['season'] = df['season'].astype('category')"
      ]
    },
    {
      "cell_type": "markdown",
      "metadata": {
        "id": "uLqxQzC7IL6f"
      },
      "source": [
        "#### **Exploratory Data Analysis (EDA)**"
      ]
    },
    {
      "cell_type": "markdown",
      "metadata": {
        "id": "uF8lqRNqJCiT"
      },
      "source": [
        "**Distribution of Count Rental Bikes**"
      ]
    },
    {
      "cell_type": "code",
      "execution_count": 65,
      "metadata": {
        "colab": {
          "base_uri": "https://localhost:8080/",
          "height": 460
        },
        "id": "Prce-w1JISec",
        "outputId": "1b45c53d-2ee3-4953-d5ac-d80e04ed36f6"
      },
      "outputs": [
        {
          "data": {
            "image/png": "[encoded data removed]",
            "text/plain": [
              "<Figure size 504x504 with 1 Axes>"
            ]
          },
          "metadata": {
            "needs_background": "light"
          },
          "output_type": "display_data"
        }
      ],
      "source": [
        "# Plot distribusi fitur 'cnt'\n",
        "plt.figure(figsize=(7, 7))\n",
        "sns.distplot(df['cnt'])\n",
        "plt.title('Count Rental Bikes Distribution Plot', size=15, weight='bold');"
      ]
    },
    {
      "cell_type": "markdown",
      "metadata": {
        "id": "8_rnr2UcJOI4"
      },
      "source": [
        "Berdasarkan plot distribusi jumlah rental sepeda di atas, terlihat bahwa terdapat 'Right-skewed distribution' yang berarti terdapat skewness positif pada fitur 'cnt'."
      ]
    },
    {
      "cell_type": "code",
      "execution_count": 184,
      "metadata": {
        "colab": {
          "base_uri": "https://localhost:8080/",
          "height": 460
        },
        "id": "Vi-JmDyZWuQG",
        "outputId": "1faf30a8-b0e2-49bf-e5d6-4a4ef5a77d72"
      },
      "outputs": [
        {
          "data": {
            "image/png": "[encoded data removed]",
            "text/plain": [
              "<Figure size 1080x504 with 1 Axes>"
            ]
          },
          "metadata": {
            "needs_background": "light"
          },
          "output_type": "display_data"
        }
      ],
      "source": [
        "# Plot Distribusi rental sepeda berdasarkan waktu\n",
        "plt.figure(figsize=(15, 7))\n",
        "sns.lineplot(data = df, x = 'dteday', y = 'cnt')\n",
        "plt.title('Count Rental Bikes Distribution Plot', size=15, weight='bold');"
      ]
    },
    {
      "cell_type": "markdown",
      "metadata": {
        "id": "CQSMo57kXS98"
      },
      "source": [
        "Berdasarkan lineplot di atas, diketahui bahwa jumlah rental sepeda mengalami peningkatan seiring berjalannya waktu, serta terdapat pola pada bulan-bulan tertentu dimana jumlah rental sepeda akan meningkat dan menurun."
      ]
    },
    {
      "cell_type": "code",
      "execution_count": 180,
      "metadata": {
        "colab": {
          "base_uri": "https://localhost:8080/",
          "height": 460
        },
        "id": "KrKufedGOX3a",
        "outputId": "00ed5c67-ef9f-4aa1-e67f-a4ab6d1ae08f"
      },
      "outputs": [
        {
          "data": {
            "image/png": "[encoded data removed]",
            "text/plain": [
              "<Figure size 864x504 with 1 Axes>"
            ]
          },
          "metadata": {
            "needs_background": "light"
          },
          "output_type": "display_data"
        }
      ],
      "source": [
        "# Plot Distribusi rental sepeda berdasarkan bulan\n",
        "df2 = df.copy()\n",
        "df2['month'] = df2['dteday'].dt.month\n",
        "df2['year'] = df2['dteday'].dt.year\n",
        "\n",
        "df2_2011 = df2[df2['year']==2011].groupby('month')\n",
        "df2_2012 = df2[df2['year']==2012].groupby('month')\n",
        "\n",
        "plt.figure(figsize=(12, 7))\n",
        "sns.lineplot(data = df2_2011.sum(), x = 'month', y = 'cnt')\n",
        "sns.lineplot(data = df2_2012.sum(), x = 'month', y = 'cnt')\n",
        "plt.legend(['2011', '2012'])\n",
        "\n",
        "sns.scatterplot(data = df2_2011.sum(), x = 'month', y = 'cnt')\n",
        "sns.scatterplot(data = df2_2012.sum(), x = 'month', y = 'cnt')\n",
        "plt.xticks(df2['month'], size = 12)\n",
        "\n",
        "plt.title('Count Rental Bikes Distribution Plot by month', size=15, weight='bold');"
      ]
    },
    {
      "cell_type": "markdown",
      "metadata": {
        "id": "aiK1SNS1Xl7T"
      },
      "source": [
        "Berdasarkan grafik di atas dapat dilihat bahwa mulai dari bulan maret menuju pertengahan tahun jumlah rental sepeda akan meningkat dan kembali menurun pada bulan oktober hingga akhir tahun."
      ]
    },
    {
      "cell_type": "code",
      "execution_count": 138,
      "metadata": {},
      "outputs": [
        {
          "data": {
            "image/png": "[encoded data removed]",
            "text/plain": [
              "<Figure size 2160x360 with 4 Axes>"
            ]
          },
          "metadata": {
            "needs_background": "light"
          },
          "output_type": "display_data"
        }
      ],
      "source": [
        "# Total Rental Sepeda berdasarkan holiday\n",
        "plt.figure(figsize = (30,5))\n",
        "plt.subplot(1,4,1)\n",
        "ax = sns.countplot(df['holiday'])\n",
        "ax.bar_label(ax.containers[0])\n",
        "plt.title('Total Rental Sepeda berdasarkan Hari Libur', size = 12)\n",
        "\n",
        "# Total Rental Sepeda berdasarkan season\n",
        "plt.subplot(1,4,2)\n",
        "ax = sns.countplot(df['season'])\n",
        "ax.bar_label(ax.containers[0])\n",
        "plt.title('Total Rental Sepeda berdasarkan Musim', size = 12)\n",
        "\n",
        "# Total Rental Sepeda berdasarkan weather\n",
        "plt.subplot(1,4,3)\n",
        "ax = sns.countplot(df['weathersit'])\n",
        "ax.bar_label(ax.containers[0])\n",
        "plt.title('Total Rental Sepeda berdasarkan Cuaca', size = 12)\n",
        "\n",
        "# Total Rental Sepeda berdasarkan jam\n",
        "plt.subplot(1,4,4)\n",
        "sns.lineplot(data=df, x='hr', y='cnt', marker='o')\n",
        "plt.title('Total Rental Sepeda berdasarkan Waktu (Jam)', size = 12)\n",
        "\n",
        "plt.show()"
      ]
    },
    {
      "cell_type": "markdown",
      "metadata": {},
      "source": [
        "Berdasarkan grafik di atas, dapat dilihat bahwa penyewaan sepeda lebih banyak ketika bukan hari libur, cuaca yang cerah, dan pada jam-jam tertentu seperti jam 8 pagi dan jam 5-6 sore. Di sisi lain, berdasarkan musim, jumlah rental sepeda tertinggi berada pada musim panas, walaupun perbedaan pada setiap musim tersebut tidak signifikan."
      ]
    },
    {
      "cell_type": "markdown",
      "metadata": {
        "id": "NDpeLHZvaKCO"
      },
      "source": [
        "### **Data Preprocessing**"
      ]
    },
    {
      "cell_type": "markdown",
      "metadata": {
        "id": "hjv6_eqhaSZg"
      },
      "source": [
        "Pada tahap ini, kita akan melakukan cleaning pada data yang nantinya data yang sudah dibersihkan akan kita gunakan untuk proses analisis selanjutnya. Beberapa hal yang perlu dilakukan adalah:\n",
        "- Drop fitur yang tidak memiliki relevansi terhadap permasalahan yang sedang dihadapi.\n",
        "- Melakukan treatment terhadap missing value jika ada. Bisa dengan cara men-drop fiturnya jika memang tidak dibutuhkan atau bisa juga dengan mengimputasi dengan nilai yang paling masuk akal berdasarkan kasusnya."
      ]
    },
    {
      "cell_type": "markdown",
      "metadata": {
        "id": "s7D3lGTaaiM-"
      },
      "source": [
        "Untuk proses data preprocessing dan feature engineering, kita akan menggunakan dataframe hasil duplikasi dari dataframe yang sebelumnya digunakan."
      ]
    },
    {
      "cell_type": "code",
      "execution_count": 68,
      "metadata": {
        "id": "DbFokF1rajX3"
      },
      "outputs": [],
      "source": [
        "# Membuat duplikasi dataframe\n",
        "df_model = df.copy()"
      ]
    },
    {
      "cell_type": "code",
      "execution_count": 69,
      "metadata": {
        "colab": {
          "base_uri": "https://localhost:8080/",
          "height": 489
        },
        "id": "l8jpigyuakNx",
        "outputId": "488f8be8-cdd5-4894-9537-0e095d9fbeba"
      },
      "outputs": [
        {
          "data": {
            "text/html": [
              "<div>\n",
              "<style scoped>\n",
              "    .dataframe tbody tr th:only-of-type {\n",
              "        vertical-align: middle;\n",
              "    }\n",
              "\n",
              "    .dataframe tbody tr th {\n",
              "        vertical-align: top;\n",
              "    }\n",
              "\n",
              "    .dataframe thead th {\n",
              "        text-align: right;\n",
              "    }\n",
              "</style>\n",
              "<table border=\"1\" class=\"dataframe\">\n",
              "  <thead>\n",
              "    <tr style=\"text-align: right;\">\n",
              "      <th></th>\n",
              "      <th>dataFeatures</th>\n",
              "      <th>dataType</th>\n",
              "      <th>null</th>\n",
              "      <th>nullPct</th>\n",
              "      <th>unique</th>\n",
              "      <th>uniqueSample</th>\n",
              "    </tr>\n",
              "  </thead>\n",
              "  <tbody>\n",
              "    <tr>\n",
              "      <th>0</th>\n",
              "      <td>dteday</td>\n",
              "      <td>datetime64[ns]</td>\n",
              "      <td>0</td>\n",
              "      <td>0.0</td>\n",
              "      <td>731</td>\n",
              "      <td>[2012-03-22T00:00:00.000000000, 2012-11-21T00:...</td>\n",
              "    </tr>\n",
              "    <tr>\n",
              "      <th>1</th>\n",
              "      <td>hum</td>\n",
              "      <td>float64</td>\n",
              "      <td>0</td>\n",
              "      <td>0.0</td>\n",
              "      <td>89</td>\n",
              "      <td>[0.53, 0.16]</td>\n",
              "    </tr>\n",
              "    <tr>\n",
              "      <th>2</th>\n",
              "      <td>weathersit</td>\n",
              "      <td>category</td>\n",
              "      <td>0</td>\n",
              "      <td>0.0</td>\n",
              "      <td>4</td>\n",
              "      <td>[3, 1]</td>\n",
              "    </tr>\n",
              "    <tr>\n",
              "      <th>3</th>\n",
              "      <td>holiday</td>\n",
              "      <td>int64</td>\n",
              "      <td>0</td>\n",
              "      <td>0.0</td>\n",
              "      <td>2</td>\n",
              "      <td>[0, 1]</td>\n",
              "    </tr>\n",
              "    <tr>\n",
              "      <th>4</th>\n",
              "      <td>season</td>\n",
              "      <td>category</td>\n",
              "      <td>0</td>\n",
              "      <td>0.0</td>\n",
              "      <td>4</td>\n",
              "      <td>[4, 2]</td>\n",
              "    </tr>\n",
              "    <tr>\n",
              "      <th>5</th>\n",
              "      <td>atemp</td>\n",
              "      <td>float64</td>\n",
              "      <td>0</td>\n",
              "      <td>0.0</td>\n",
              "      <td>65</td>\n",
              "      <td>[0.0303, 0.4091]</td>\n",
              "    </tr>\n",
              "    <tr>\n",
              "      <th>6</th>\n",
              "      <td>temp</td>\n",
              "      <td>float64</td>\n",
              "      <td>0</td>\n",
              "      <td>0.0</td>\n",
              "      <td>50</td>\n",
              "      <td>[0.9, 0.78]</td>\n",
              "    </tr>\n",
              "    <tr>\n",
              "      <th>7</th>\n",
              "      <td>hr</td>\n",
              "      <td>int64</td>\n",
              "      <td>0</td>\n",
              "      <td>0.0</td>\n",
              "      <td>24</td>\n",
              "      <td>[6, 8]</td>\n",
              "    </tr>\n",
              "    <tr>\n",
              "      <th>8</th>\n",
              "      <td>casual</td>\n",
              "      <td>int64</td>\n",
              "      <td>0</td>\n",
              "      <td>0.0</td>\n",
              "      <td>305</td>\n",
              "      <td>[28, 130]</td>\n",
              "    </tr>\n",
              "    <tr>\n",
              "      <th>9</th>\n",
              "      <td>registered</td>\n",
              "      <td>int64</td>\n",
              "      <td>0</td>\n",
              "      <td>0.0</td>\n",
              "      <td>742</td>\n",
              "      <td>[26, 420]</td>\n",
              "    </tr>\n",
              "    <tr>\n",
              "      <th>10</th>\n",
              "      <td>cnt</td>\n",
              "      <td>int64</td>\n",
              "      <td>0</td>\n",
              "      <td>0.0</td>\n",
              "      <td>830</td>\n",
              "      <td>[440, 642]</td>\n",
              "    </tr>\n",
              "    <tr>\n",
              "      <th>11</th>\n",
              "      <td>weekday</td>\n",
              "      <td>category</td>\n",
              "      <td>0</td>\n",
              "      <td>0.0</td>\n",
              "      <td>7</td>\n",
              "      <td>[1, 3]</td>\n",
              "    </tr>\n",
              "    <tr>\n",
              "      <th>12</th>\n",
              "      <td>month</td>\n",
              "      <td>int64</td>\n",
              "      <td>0</td>\n",
              "      <td>0.0</td>\n",
              "      <td>12</td>\n",
              "      <td>[4, 9]</td>\n",
              "    </tr>\n",
              "    <tr>\n",
              "      <th>13</th>\n",
              "      <td>year</td>\n",
              "      <td>int64</td>\n",
              "      <td>0</td>\n",
              "      <td>0.0</td>\n",
              "      <td>2</td>\n",
              "      <td>[2012, 2011]</td>\n",
              "    </tr>\n",
              "  </tbody>\n",
              "</table>\n",
              "</div>"
            ],
            "text/plain": [
              "   dataFeatures        dataType  null  nullPct  unique  \\\n",
              "0        dteday  datetime64[ns]     0      0.0     731   \n",
              "1           hum         float64     0      0.0      89   \n",
              "2    weathersit        category     0      0.0       4   \n",
              "3       holiday           int64     0      0.0       2   \n",
              "4        season        category     0      0.0       4   \n",
              "5         atemp         float64     0      0.0      65   \n",
              "6          temp         float64     0      0.0      50   \n",
              "7            hr           int64     0      0.0      24   \n",
              "8        casual           int64     0      0.0     305   \n",
              "9    registered           int64     0      0.0     742   \n",
              "10          cnt           int64     0      0.0     830   \n",
              "11      weekday        category     0      0.0       7   \n",
              "12        month           int64     0      0.0      12   \n",
              "13         year           int64     0      0.0       2   \n",
              "\n",
              "                                         uniqueSample  \n",
              "0   [2012-03-22T00:00:00.000000000, 2012-11-21T00:...  \n",
              "1                                        [0.53, 0.16]  \n",
              "2                                              [3, 1]  \n",
              "3                                              [0, 1]  \n",
              "4                                              [4, 2]  \n",
              "5                                    [0.0303, 0.4091]  \n",
              "6                                         [0.9, 0.78]  \n",
              "7                                              [6, 8]  \n",
              "8                                           [28, 130]  \n",
              "9                                           [26, 420]  \n",
              "10                                         [440, 642]  \n",
              "11                                             [1, 3]  \n",
              "12                                             [4, 9]  \n",
              "13                                       [2012, 2011]  "
            ]
          },
          "execution_count": 69,
          "metadata": {},
          "output_type": "execute_result"
        }
      ],
      "source": [
        "# Cek info lebih detail untuk setiap fitur\n",
        "listItem = []\n",
        "\n",
        "for col in df_model.columns:\n",
        "    listItem.append([col, df_model[col].dtype, df_model[col].isna().sum(), round((df_model[col].isna().sum()/len(df_model[col]))*100, 2),\n",
        "                    df_model[col].nunique(), list(df_model[col].drop_duplicates().sample(2).values)]);\n",
        "\n",
        "df_model_desc = pd.DataFrame(columns=['dataFeatures', 'dataType', 'null', 'nullPct', 'unique', 'uniqueSample'],\n",
        "                     data=listItem)\n",
        "df_model_desc"
      ]
    },
    {
      "cell_type": "markdown",
      "metadata": {
        "id": "9wbAMNFLbSJY"
      },
      "source": [
        "Berdasarkan data di atas, diketahui bahwa tidak terdapat missing value."
      ]
    },
    {
      "cell_type": "code",
      "execution_count": 70,
      "metadata": {
        "colab": {
          "base_uri": "https://localhost:8080/"
        },
        "id": "ncB4FphAbcz4",
        "outputId": "c9cba4cc-3353-490a-d379-d42a4773cfdc"
      },
      "outputs": [
        {
          "data": {
            "text/plain": [
              "0"
            ]
          },
          "execution_count": 70,
          "metadata": {},
          "output_type": "execute_result"
        }
      ],
      "source": [
        "# Cek data duplikat\n",
        "df_model.duplicated().sum()"
      ]
    },
    {
      "cell_type": "markdown",
      "metadata": {
        "id": "GRzkkLapbeX5"
      },
      "source": [
        "Berdasarkan data di atas, diketahui bahwa tidak terdapat data yang terduplikat."
      ]
    },
    {
      "cell_type": "markdown",
      "metadata": {
        "id": "1sbn8zUwctaI"
      },
      "source": [
        "**Drop Columns**"
      ]
    },
    {
      "cell_type": "markdown",
      "metadata": {
        "id": "IzZGLQFrdCL5"
      },
      "source": [
        "Tentu perlu ada pertimbangan sebelum melakukan drop pada kolom atau fitur. Sebagai pertimbangan, pada tahap awal ini kita bisa menggunakan domain knowledge untuk memutuskan kira-kira fitur mana saja yang dirasa tidak memiliki relevansi.\n",
        "- Jika ditinjau berdasar domain knowledge, fitur 'casual' dan 'registered' merupakan angka pengguna biasa dan pengguna baru. Angka tersebut dijumlahkan dan menjadi fitur 'cnt'. Karena 'cnt' telah mewakili total pengguna rental sepeda, maka fitur 'casual' dan 'registered' tidak diperlukan.\n",
        "- fitur 'dteday' menggambarkan tanggal, fitur ini tidak memiliki relevansi dengan model regresi yang akan dibuat, sehingga fitur ini akan dihapus. \n"
      ]
    },
    {
      "cell_type": "code",
      "execution_count": 71,
      "metadata": {
        "id": "tiMUJqY6dCyD"
      },
      "outputs": [],
      "source": [
        "# Drop beberapa kolom yang tidak diperlukan\n",
        "df_model.drop(['dteday', 'casual', 'registered'], axis=1 , inplace = True)"
      ]
    },
    {
      "cell_type": "code",
      "execution_count": 72,
      "metadata": {
        "colab": {
          "base_uri": "https://localhost:8080/"
        },
        "id": "-M0WVS9odAzD",
        "outputId": "bc2b26ad-df2c-4534-a4b0-4491903925f6"
      },
      "outputs": [
        {
          "name": "stdout",
          "output_type": "stream",
          "text": [
            "<class 'pandas.core.frame.DataFrame'>\n",
            "RangeIndex: 12165 entries, 0 to 12164\n",
            "Data columns (total 11 columns):\n",
            " #   Column      Non-Null Count  Dtype   \n",
            "---  ------      --------------  -----   \n",
            " 0   hum         12165 non-null  float64 \n",
            " 1   weathersit  12165 non-null  category\n",
            " 2   holiday     12165 non-null  int64   \n",
            " 3   season      12165 non-null  category\n",
            " 4   atemp       12165 non-null  float64 \n",
            " 5   temp        12165 non-null  float64 \n",
            " 6   hr          12165 non-null  int64   \n",
            " 7   cnt         12165 non-null  int64   \n",
            " 8   weekday     12165 non-null  category\n",
            " 9   month       12165 non-null  int64   \n",
            " 10  year        12165 non-null  int64   \n",
            "dtypes: category(3), float64(3), int64(5)\n",
            "memory usage: 796.8 KB\n"
          ]
        }
      ],
      "source": [
        "# Cek info dataset\n",
        "df_model.info()"
      ]
    },
    {
      "cell_type": "markdown",
      "metadata": {
        "id": "sstLAUMrgPAe"
      },
      "source": [
        "Sekarang kolom 'dteday', 'casual', dan 'registered' sudah tidak ada."
      ]
    },
    {
      "cell_type": "code",
      "execution_count": 73,
      "metadata": {
        "colab": {
          "base_uri": "https://localhost:8080/",
          "height": 301
        },
        "id": "WTycgDpFgiPe",
        "outputId": "e9fcee4a-7442-4f16-9f59-1f2d7a08dba5"
      },
      "outputs": [
        {
          "data": {
            "text/html": [
              "<div>\n",
              "<style scoped>\n",
              "    .dataframe tbody tr th:only-of-type {\n",
              "        vertical-align: middle;\n",
              "    }\n",
              "\n",
              "    .dataframe tbody tr th {\n",
              "        vertical-align: top;\n",
              "    }\n",
              "\n",
              "    .dataframe thead th {\n",
              "        text-align: right;\n",
              "    }\n",
              "</style>\n",
              "<table border=\"1\" class=\"dataframe\">\n",
              "  <thead>\n",
              "    <tr style=\"text-align: right;\">\n",
              "      <th></th>\n",
              "      <th>hum</th>\n",
              "      <th>holiday</th>\n",
              "      <th>atemp</th>\n",
              "      <th>temp</th>\n",
              "      <th>hr</th>\n",
              "      <th>cnt</th>\n",
              "      <th>month</th>\n",
              "      <th>year</th>\n",
              "    </tr>\n",
              "  </thead>\n",
              "  <tbody>\n",
              "    <tr>\n",
              "      <th>count</th>\n",
              "      <td>12165.000000</td>\n",
              "      <td>12165.000000</td>\n",
              "      <td>12165.000000</td>\n",
              "      <td>12165.000000</td>\n",
              "      <td>12165.000000</td>\n",
              "      <td>12165.000000</td>\n",
              "      <td>12165.000000</td>\n",
              "      <td>12165.000000</td>\n",
              "    </tr>\n",
              "    <tr>\n",
              "      <th>mean</th>\n",
              "      <td>0.625451</td>\n",
              "      <td>0.029758</td>\n",
              "      <td>0.476996</td>\n",
              "      <td>0.498185</td>\n",
              "      <td>11.519770</td>\n",
              "      <td>189.271023</td>\n",
              "      <td>6.510974</td>\n",
              "      <td>2011.501932</td>\n",
              "    </tr>\n",
              "    <tr>\n",
              "      <th>std</th>\n",
              "      <td>0.192102</td>\n",
              "      <td>0.169925</td>\n",
              "      <td>0.171857</td>\n",
              "      <td>0.192492</td>\n",
              "      <td>6.931872</td>\n",
              "      <td>181.223903</td>\n",
              "      <td>3.433995</td>\n",
              "      <td>0.500017</td>\n",
              "    </tr>\n",
              "    <tr>\n",
              "      <th>min</th>\n",
              "      <td>0.000000</td>\n",
              "      <td>0.000000</td>\n",
              "      <td>0.000000</td>\n",
              "      <td>0.020000</td>\n",
              "      <td>0.000000</td>\n",
              "      <td>1.000000</td>\n",
              "      <td>1.000000</td>\n",
              "      <td>2011.000000</td>\n",
              "    </tr>\n",
              "    <tr>\n",
              "      <th>25%</th>\n",
              "      <td>0.470000</td>\n",
              "      <td>0.000000</td>\n",
              "      <td>0.333300</td>\n",
              "      <td>0.340000</td>\n",
              "      <td>6.000000</td>\n",
              "      <td>40.000000</td>\n",
              "      <td>4.000000</td>\n",
              "      <td>2011.000000</td>\n",
              "    </tr>\n",
              "    <tr>\n",
              "      <th>50%</th>\n",
              "      <td>0.620000</td>\n",
              "      <td>0.000000</td>\n",
              "      <td>0.484800</td>\n",
              "      <td>0.500000</td>\n",
              "      <td>12.000000</td>\n",
              "      <td>142.000000</td>\n",
              "      <td>7.000000</td>\n",
              "      <td>2012.000000</td>\n",
              "    </tr>\n",
              "    <tr>\n",
              "      <th>75%</th>\n",
              "      <td>0.780000</td>\n",
              "      <td>0.000000</td>\n",
              "      <td>0.621200</td>\n",
              "      <td>0.660000</td>\n",
              "      <td>18.000000</td>\n",
              "      <td>282.000000</td>\n",
              "      <td>9.000000</td>\n",
              "      <td>2012.000000</td>\n",
              "    </tr>\n",
              "    <tr>\n",
              "      <th>max</th>\n",
              "      <td>1.000000</td>\n",
              "      <td>1.000000</td>\n",
              "      <td>1.000000</td>\n",
              "      <td>1.000000</td>\n",
              "      <td>23.000000</td>\n",
              "      <td>970.000000</td>\n",
              "      <td>12.000000</td>\n",
              "      <td>2012.000000</td>\n",
              "    </tr>\n",
              "  </tbody>\n",
              "</table>\n",
              "</div>"
            ],
            "text/plain": [
              "                hum       holiday         atemp          temp            hr  \\\n",
              "count  12165.000000  12165.000000  12165.000000  12165.000000  12165.000000   \n",
              "mean       0.625451      0.029758      0.476996      0.498185     11.519770   \n",
              "std        0.192102      0.169925      0.171857      0.192492      6.931872   \n",
              "min        0.000000      0.000000      0.000000      0.020000      0.000000   \n",
              "25%        0.470000      0.000000      0.333300      0.340000      6.000000   \n",
              "50%        0.620000      0.000000      0.484800      0.500000     12.000000   \n",
              "75%        0.780000      0.000000      0.621200      0.660000     18.000000   \n",
              "max        1.000000      1.000000      1.000000      1.000000     23.000000   \n",
              "\n",
              "                cnt         month          year  \n",
              "count  12165.000000  12165.000000  12165.000000  \n",
              "mean     189.271023      6.510974   2011.501932  \n",
              "std      181.223903      3.433995      0.500017  \n",
              "min        1.000000      1.000000   2011.000000  \n",
              "25%       40.000000      4.000000   2011.000000  \n",
              "50%      142.000000      7.000000   2012.000000  \n",
              "75%      282.000000      9.000000   2012.000000  \n",
              "max      970.000000     12.000000   2012.000000  "
            ]
          },
          "execution_count": 73,
          "metadata": {},
          "output_type": "execute_result"
        }
      ],
      "source": [
        "# Cek deskriptif statistik fitur numerikal\n",
        "num_features = [feature for feature in df_model.columns if ((df_model[feature].dtypes != 'object'))]\n",
        "df_model[num_features].describe()"
      ]
    },
    {
      "cell_type": "markdown",
      "metadata": {
        "id": "CxAhU0SHiRnu"
      },
      "source": [
        "Berdasarkan data di atas, tidak ada fitur yang memiliki nilai negatif.\n",
        "\n",
        "Pada fitur 'hum' terdapat nilai minimum 0. Hal tersebut dirasa tidak masuk akal karena tidak mungkin terjadi tingkat kelembapan sebesar 0%. Oleh karena itu, data yang memiliki nilai 'hum' = 0 lebih baik kita drop."
      ]
    },
    {
      "cell_type": "code",
      "execution_count": 74,
      "metadata": {
        "colab": {
          "base_uri": "https://localhost:8080/"
        },
        "id": "kEzDRFWCgswW",
        "outputId": "27467f18-1311-46f2-e1f2-513977ac5e99"
      },
      "outputs": [
        {
          "data": {
            "text/plain": [
              "14"
            ]
          },
          "execution_count": 74,
          "metadata": {},
          "output_type": "execute_result"
        }
      ],
      "source": [
        "# Cek humidity yang bernilai 0\n",
        "df_model[df_model['hum']==0.0]['hum'].count()"
      ]
    },
    {
      "cell_type": "code",
      "execution_count": 75,
      "metadata": {
        "id": "BZMkH9utjLHd"
      },
      "outputs": [],
      "source": [
        "# Drop data dengan humidity yang bernilai 0\n",
        "df_model = df_model[(df_model['hum'] != 0)]"
      ]
    },
    {
      "cell_type": "code",
      "execution_count": 76,
      "metadata": {
        "colab": {
          "base_uri": "https://localhost:8080/"
        },
        "id": "sCHY9X44jSU5",
        "outputId": "69887269-a9e2-4c16-c620-20a65c8da8b8"
      },
      "outputs": [
        {
          "name": "stdout",
          "output_type": "stream",
          "text": [
            "<class 'pandas.core.frame.DataFrame'>\n",
            "Int64Index: 12151 entries, 0 to 12164\n",
            "Data columns (total 11 columns):\n",
            " #   Column      Non-Null Count  Dtype   \n",
            "---  ------      --------------  -----   \n",
            " 0   hum         12151 non-null  float64 \n",
            " 1   weathersit  12151 non-null  category\n",
            " 2   holiday     12151 non-null  int64   \n",
            " 3   season      12151 non-null  category\n",
            " 4   atemp       12151 non-null  float64 \n",
            " 5   temp        12151 non-null  float64 \n",
            " 6   hr          12151 non-null  int64   \n",
            " 7   cnt         12151 non-null  int64   \n",
            " 8   weekday     12151 non-null  category\n",
            " 9   month       12151 non-null  int64   \n",
            " 10  year        12151 non-null  int64   \n",
            "dtypes: category(3), float64(3), int64(5)\n",
            "memory usage: 890.7 KB\n"
          ]
        }
      ],
      "source": [
        "# Cek kembali dataset info\n",
        "df_model.info()"
      ]
    },
    {
      "cell_type": "markdown",
      "metadata": {
        "id": "1lOpb9HBjXpF"
      },
      "source": [
        "**Data Correlation**"
      ]
    },
    {
      "cell_type": "code",
      "execution_count": 77,
      "metadata": {
        "colab": {
          "base_uri": "https://localhost:8080/",
          "height": 718
        },
        "id": "nNLR_JL1jaq2",
        "outputId": "758f183e-ba48-458a-ccdb-30e15049b898"
      },
      "outputs": [
        {
          "data": {
            "image/png": "[encoded data removed]",
            "text/plain": [
              "<Figure size 1080x864 with 2 Axes>"
            ]
          },
          "metadata": {
            "needs_background": "light"
          },
          "output_type": "display_data"
        }
      ],
      "source": [
        "# Correlation matrix\n",
        "plt.figure(figsize=(15, 12))\n",
        "palette=sns.diverging_palette(20, 220, n=256)\n",
        "corr = df_model.corr(method='pearson')\n",
        "sns.heatmap(corr, annot=True, fmt='.2f', cmap=palette, square=True, linewidths=.5)\n",
        "plt.title('Correlation Matrix', size=15, weight='bold');"
      ]
    },
    {
      "cell_type": "markdown",
      "metadata": {
        "id": "CR1FbBg9kDdV"
      },
      "source": [
        "Correlation matrix menunjukkan bahwa tidak ada fitur yang memiliki korelasi yang kuat terhadap fitur cnt. Korelasi paling tinggi dimiliki oleh fitur 'atemp', 'temp', 'hr' di mana korelasinya adalah korelasi positif. Ini berarti semakin ke tinggi temperature dan semakin tinggi jam maka jumlah rental sepeda akan meningkat.\n",
        "\n",
        "Pada grafik di atas juga terlihat bahwa 'atemp' berkorelasi tinggi dengan 'temp'. Oleh karena itu salah satu fitur akan di-drop, yaitu fitur 'atemp'."
      ]
    },
    {
      "cell_type": "code",
      "execution_count": 78,
      "metadata": {
        "colab": {
          "base_uri": "https://localhost:8080/"
        },
        "id": "XmDHHI6YLPU_",
        "outputId": "db3770f5-9000-4a09-8c18-bb2883969251"
      },
      "outputs": [
        {
          "name": "stdout",
          "output_type": "stream",
          "text": [
            "<class 'pandas.core.frame.DataFrame'>\n",
            "Int64Index: 12151 entries, 0 to 12164\n",
            "Data columns (total 10 columns):\n",
            " #   Column      Non-Null Count  Dtype   \n",
            "---  ------      --------------  -----   \n",
            " 0   hum         12151 non-null  float64 \n",
            " 1   weathersit  12151 non-null  category\n",
            " 2   holiday     12151 non-null  int64   \n",
            " 3   season      12151 non-null  category\n",
            " 4   temp        12151 non-null  float64 \n",
            " 5   hr          12151 non-null  int64   \n",
            " 6   cnt         12151 non-null  int64   \n",
            " 7   weekday     12151 non-null  category\n",
            " 8   month       12151 non-null  int64   \n",
            " 9   year        12151 non-null  int64   \n",
            "dtypes: category(3), float64(2), int64(5)\n",
            "memory usage: 795.8 KB\n"
          ]
        }
      ],
      "source": [
        "# Drop Feature 'atemp'\n",
        "df_model.drop(['atemp'], axis=1 , inplace = True)\n",
        "df_model.info()"
      ]
    },
    {
      "cell_type": "markdown",
      "metadata": {
        "id": "iL_1G5DNkMTl"
      },
      "source": [
        "Selanjutnya, kita akan mengecek distribusi data dan outliers untuk tiap numerikal fitur. Jika distribusinya memiliki skewness yang tinggi, salah satu cara yang dapat kita lakukan untuk menguranginya adalah dengan melakukan rekayasa pada tiap fiturnya."
      ]
    },
    {
      "cell_type": "markdown",
      "metadata": {
        "id": "PCHgJ4vMkwOF"
      },
      "source": [
        "**Outliers Detection**\n",
        "\n",
        "Banyaknya outliers pada data tentu akan memengaruhi hasil analisis dan pemodelan yang dilakukan. Ada beberapa hal yang harus dipertimbangkan sebelum memutuskan treatment yang sesuai dengan data, di antaranya adalah dengan mempertimbangkan sisi domain knowledge."
      ]
    },
    {
      "cell_type": "code",
      "execution_count": 79,
      "metadata": {
        "colab": {
          "base_uri": "https://localhost:8080/",
          "height": 308
        },
        "id": "mdFKRVtck0g1",
        "outputId": "95226a8d-bf0e-4d2b-c47a-8869ae8dca2d"
      },
      "outputs": [
        {
          "data": {
            "image/png": "[encoded data removed]",
            "text/plain": [
              "<Figure size 432x288 with 1 Axes>"
            ]
          },
          "metadata": {
            "needs_background": "light"
          },
          "output_type": "display_data"
        }
      ],
      "source": [
        "# Plot boxplot untuk mengecek outliers\n",
        "df_model.boxplot(rot=90);"
      ]
    },
    {
      "cell_type": "markdown",
      "metadata": {
        "id": "zv5Iys0wnUsL"
      },
      "source": [
        "Terlihat terdapat outliers pada fitur 'cnt. Dalam project ini, untuk membuat dataset yang lebih bersih dari outliers, saya akan melakukan beberapa rekayasa data pada fitur-fitur dengan mempertimbangkan kombinasi antara hasil dari metode IQR dan juga domain knowledge. Nantinya, model yang dihasilkan hanya terbatas dapat memprediksi jumlah rental sepeda yang nilai-nilainya pada rentang data berdasarkan 'clean dataset' ini saja. Di luar rentang data, hasil prediksi dari model akan menjadi bias."
      ]
    },
    {
      "cell_type": "code",
      "execution_count": 80,
      "metadata": {
        "id": "ha02qnJNlUPl"
      },
      "outputs": [],
      "source": [
        "# Membuat fungsi untuk mengecek outliers\n",
        "def find_anomalies(data):\n",
        "    q1 = data.quantile(0.25)\n",
        "    q3 = data.quantile(0.75)\n",
        "    iqr = q3 - q1\n",
        "    limit = iqr*1.5\n",
        "    print(f'IQR: {iqr}')\n",
        "\n",
        "    limit_bawah = q1 - limit\n",
        "    limit_atas = q3 + limit\n",
        "    print(f'limit_bawah: {limit_bawah}')\n",
        "    print(f'limit_atas: {limit_atas}')        "
      ]
    },
    {
      "cell_type": "code",
      "execution_count": 81,
      "metadata": {
        "colab": {
          "base_uri": "https://localhost:8080/"
        },
        "id": "CFbhBfsJluda",
        "outputId": "ac5e83b4-f2f8-4b0b-bdcc-5edf4042271c"
      },
      "outputs": [
        {
          "name": "stdout",
          "output_type": "stream",
          "text": [
            "IQR: 242.0\n",
            "limit_bawah: -323.0\n",
            "limit_atas: 645.0\n"
          ]
        }
      ],
      "source": [
        "# Outliers pada fitur cnt\n",
        "find_anomalies(df_model['cnt'])"
      ]
    },
    {
      "cell_type": "markdown",
      "metadata": {
        "id": "kxOVdYz6nlTM"
      },
      "source": [
        "**Fitur Cnt (Count)**"
      ]
    },
    {
      "cell_type": "code",
      "execution_count": 82,
      "metadata": {
        "colab": {
          "base_uri": "https://localhost:8080/"
        },
        "id": "C5dmjLapnqRs",
        "outputId": "45d122f4-cbd1-469e-8f8d-ab31d37266d9"
      },
      "outputs": [
        {
          "data": {
            "text/plain": [
              "count    12151.000000\n",
              "mean       189.457329\n",
              "std        181.242898\n",
              "min          1.000000\n",
              "25%         40.000000\n",
              "50%        142.000000\n",
              "75%        282.000000\n",
              "max        970.000000\n",
              "Name: cnt, dtype: float64"
            ]
          },
          "execution_count": 82,
          "metadata": {},
          "output_type": "execute_result"
        }
      ],
      "source": [
        "# Cek deskriptif statistik kolom cnt\n",
        "df_model['cnt'].describe()"
      ]
    },
    {
      "cell_type": "code",
      "execution_count": 83,
      "metadata": {
        "colab": {
          "base_uri": "https://localhost:8080/"
        },
        "id": "hgSviCE2m32Q",
        "outputId": "ef2b2783-9f32-4fcd-c5b1-de31b0188d28"
      },
      "outputs": [
        {
          "data": {
            "text/plain": [
              "338"
            ]
          },
          "execution_count": 83,
          "metadata": {},
          "output_type": "execute_result"
        }
      ],
      "source": [
        "# Cek temp > 645\n",
        "df_model[df_model['cnt'] > 645].count()['temp']"
      ]
    },
    {
      "cell_type": "markdown",
      "metadata": {
        "id": "1SfDz1ANnu0U"
      },
      "source": [
        "Terlihat bahwa 75% data pada kolom 'cnt' bernilai kurang dari  282,sedangkan nilai maksimalnya adalah 970. Tentu terdapat skewness pada distribusinya, yaitu tail yang memanjang di sebelah kanan (positive skewness). Terdapat 338 data yang nilai price-nya lebih besar dari  645 (batas atas berdasarkan metode IQR).Oleh karena itu, data yang memiliki price lebih besar dari 645 tidak akan dimasukkan ke dalam pemodelan, sehingga skewness-nya pun akan berkurang. Hal ini tentu akan menjadi limitasi untuk model yang nantinya dibangun."
      ]
    },
    {
      "cell_type": "code",
      "execution_count": 84,
      "metadata": {
        "colab": {
          "base_uri": "https://localhost:8080/",
          "height": 388
        },
        "id": "hmDuR3cfoL2U",
        "outputId": "9de6a4cf-4dbe-4153-c8a1-f2297a1d1db7"
      },
      "outputs": [
        {
          "data": {
            "image/png": "[encoded data removed]",
            "text/plain": [
              "<Figure size 1512x432 with 2 Axes>"
            ]
          },
          "metadata": {
            "needs_background": "light"
          },
          "output_type": "display_data"
        }
      ],
      "source": [
        "# Melakukan filtering pada data\n",
        "df_model = df_model[(df_model['cnt'] <= 645)]\n",
        "\n",
        "# Plot distribusi data sebelum dan sesudah filtering\n",
        "fig, axes = plt.subplots(1,2, figsize=(21, 6))\n",
        "sns.distplot(df['cnt'], ax=axes[0])\n",
        "sns.distplot(df_model['cnt'], ax=axes[1])\n",
        "axes[0].set_xlabel('cnt')\n",
        "axes[1].set_xlabel('Range Selected cnt');"
      ]
    },
    {
      "cell_type": "code",
      "execution_count": 85,
      "metadata": {
        "colab": {
          "base_uri": "https://localhost:8080/"
        },
        "id": "cLkP1y41oc3T",
        "outputId": "c63728fa-e239-45c0-e2aa-c3ac54623d4c"
      },
      "outputs": [
        {
          "data": {
            "text/plain": [
              "count    11813.000000\n",
              "mean       173.384238\n",
              "std        155.931763\n",
              "min          1.000000\n",
              "25%         38.000000\n",
              "50%        136.000000\n",
              "75%        267.000000\n",
              "max        645.000000\n",
              "Name: cnt, dtype: float64"
            ]
          },
          "execution_count": 85,
          "metadata": {},
          "output_type": "execute_result"
        }
      ],
      "source": [
        "# Cek deskriptif statistik kolom 'cnt' setelah filtering\n",
        "df_model['cnt'].describe()"
      ]
    },
    {
      "cell_type": "markdown",
      "metadata": {
        "id": "rUJsw2dyomql"
      },
      "source": [
        "**Clean Dataset**"
      ]
    },
    {
      "cell_type": "code",
      "execution_count": 86,
      "metadata": {
        "colab": {
          "base_uri": "https://localhost:8080/",
          "height": 206
        },
        "id": "94xxlydPon1O",
        "outputId": "ccdd9472-d694-4620-9b1a-0c3b8a001e9c"
      },
      "outputs": [
        {
          "data": {
            "text/html": [
              "<div>\n",
              "<style scoped>\n",
              "    .dataframe tbody tr th:only-of-type {\n",
              "        vertical-align: middle;\n",
              "    }\n",
              "\n",
              "    .dataframe tbody tr th {\n",
              "        vertical-align: top;\n",
              "    }\n",
              "\n",
              "    .dataframe thead th {\n",
              "        text-align: right;\n",
              "    }\n",
              "</style>\n",
              "<table border=\"1\" class=\"dataframe\">\n",
              "  <thead>\n",
              "    <tr style=\"text-align: right;\">\n",
              "      <th></th>\n",
              "      <th>hum</th>\n",
              "      <th>weathersit</th>\n",
              "      <th>holiday</th>\n",
              "      <th>season</th>\n",
              "      <th>temp</th>\n",
              "      <th>hr</th>\n",
              "      <th>cnt</th>\n",
              "      <th>weekday</th>\n",
              "      <th>month</th>\n",
              "      <th>year</th>\n",
              "    </tr>\n",
              "  </thead>\n",
              "  <tbody>\n",
              "    <tr>\n",
              "      <th>0</th>\n",
              "      <td>0.62</td>\n",
              "      <td>1</td>\n",
              "      <td>0</td>\n",
              "      <td>4</td>\n",
              "      <td>0.36</td>\n",
              "      <td>16</td>\n",
              "      <td>250</td>\n",
              "      <td>4</td>\n",
              "      <td>12</td>\n",
              "      <td>2011</td>\n",
              "    </tr>\n",
              "    <tr>\n",
              "      <th>1</th>\n",
              "      <td>0.64</td>\n",
              "      <td>1</td>\n",
              "      <td>0</td>\n",
              "      <td>2</td>\n",
              "      <td>0.54</td>\n",
              "      <td>4</td>\n",
              "      <td>18</td>\n",
              "      <td>6</td>\n",
              "      <td>6</td>\n",
              "      <td>2012</td>\n",
              "    </tr>\n",
              "    <tr>\n",
              "      <th>2</th>\n",
              "      <td>0.53</td>\n",
              "      <td>1</td>\n",
              "      <td>0</td>\n",
              "      <td>2</td>\n",
              "      <td>0.62</td>\n",
              "      <td>23</td>\n",
              "      <td>107</td>\n",
              "      <td>2</td>\n",
              "      <td>6</td>\n",
              "      <td>2011</td>\n",
              "    </tr>\n",
              "    <tr>\n",
              "      <th>3</th>\n",
              "      <td>0.87</td>\n",
              "      <td>2</td>\n",
              "      <td>0</td>\n",
              "      <td>2</td>\n",
              "      <td>0.36</td>\n",
              "      <td>8</td>\n",
              "      <td>145</td>\n",
              "      <td>5</td>\n",
              "      <td>3</td>\n",
              "      <td>2012</td>\n",
              "    </tr>\n",
              "    <tr>\n",
              "      <th>5</th>\n",
              "      <td>0.72</td>\n",
              "      <td>1</td>\n",
              "      <td>0</td>\n",
              "      <td>4</td>\n",
              "      <td>0.46</td>\n",
              "      <td>0</td>\n",
              "      <td>45</td>\n",
              "      <td>0</td>\n",
              "      <td>10</td>\n",
              "      <td>2012</td>\n",
              "    </tr>\n",
              "  </tbody>\n",
              "</table>\n",
              "</div>"
            ],
            "text/plain": [
              "    hum weathersit  holiday season  temp  hr  cnt weekday  month  year\n",
              "0  0.62          1        0      4  0.36  16  250       4     12  2011\n",
              "1  0.64          1        0      2  0.54   4   18       6      6  2012\n",
              "2  0.53          1        0      2  0.62  23  107       2      6  2011\n",
              "3  0.87          2        0      2  0.36   8  145       5      3  2012\n",
              "5  0.72          1        0      4  0.46   0   45       0     10  2012"
            ]
          },
          "execution_count": 86,
          "metadata": {},
          "output_type": "execute_result"
        }
      ],
      "source": [
        "# Cek dataset yang sudah bersih\n",
        "df_model.head()"
      ]
    },
    {
      "cell_type": "code",
      "execution_count": 87,
      "metadata": {
        "colab": {
          "base_uri": "https://localhost:8080/"
        },
        "id": "OgcgBz_Fopkx",
        "outputId": "ab75580b-470f-430a-95c7-2d33043b76e9"
      },
      "outputs": [
        {
          "name": "stdout",
          "output_type": "stream",
          "text": [
            "<class 'pandas.core.frame.DataFrame'>\n",
            "Int64Index: 11813 entries, 0 to 12164\n",
            "Data columns (total 10 columns):\n",
            " #   Column      Non-Null Count  Dtype   \n",
            "---  ------      --------------  -----   \n",
            " 0   hum         11813 non-null  float64 \n",
            " 1   weathersit  11813 non-null  category\n",
            " 2   holiday     11813 non-null  int64   \n",
            " 3   season      11813 non-null  category\n",
            " 4   temp        11813 non-null  float64 \n",
            " 5   hr          11813 non-null  int64   \n",
            " 6   cnt         11813 non-null  int64   \n",
            " 7   weekday     11813 non-null  category\n",
            " 8   month       11813 non-null  int64   \n",
            " 9   year        11813 non-null  int64   \n",
            "dtypes: category(3), float64(2), int64(5)\n",
            "memory usage: 773.7 KB\n"
          ]
        }
      ],
      "source": [
        "# Cek kembali info dataset\n",
        "df_model.info()"
      ]
    },
    {
      "cell_type": "markdown",
      "metadata": {
        "id": "lMzPnzHfotkZ"
      },
      "source": [
        "Pada akhirnya, tersisa 11813 baris data yang akan digunakan untuk pemodelan. Ini berarti terdapat 2% data yang tereliminasi sesuai dengan asumsi dan argumen yang disampaikan di proses-proses sebelumnya."
      ]
    },
    {
      "cell_type": "markdown",
      "metadata": {
        "id": "5oPQMuS2pHM9"
      },
      "source": [
        "### **Modeling**"
      ]
    },
    {
      "cell_type": "code",
      "execution_count": 94,
      "metadata": {
        "id": "K68F627epOMc"
      },
      "outputs": [],
      "source": [
        "# Import library untuk modeling\n",
        "\n",
        "from sklearn.model_selection import train_test_split, cross_val_score, RandomizedSearchCV, GridSearchCV, KFold\n",
        "\n",
        "import category_encoders as ce\n",
        "from sklearn.preprocessing import OneHotEncoder, PolynomialFeatures, KBinsDiscretizer\n",
        "from sklearn.compose import ColumnTransformer\n",
        "from sklearn.pipeline import Pipeline\n",
        "\n",
        "from sklearn.linear_model import LinearRegression\n",
        "from sklearn.neighbors import KNeighborsRegressor\n",
        "from sklearn.tree import DecisionTreeRegressor\n",
        "from sklearn.ensemble import RandomForestRegressor\n",
        "from xgboost.sklearn import XGBRegressor\n",
        "from sklearn.compose import TransformedTargetRegressor\n",
        "\n",
        "from sklearn.preprocessing import StandardScaler\n",
        "\n",
        "from sklearn.metrics import r2_score, mean_squared_error, mean_absolute_error, mean_absolute_percentage_error"
      ]
    },
    {
      "cell_type": "markdown",
      "metadata": {
        "id": "gb6rMrmplBx1"
      },
      "source": [
        "**Encoding**"
      ]
    },
    {
      "cell_type": "code",
      "execution_count": 89,
      "metadata": {
        "colab": {
          "base_uri": "https://localhost:8080/"
        },
        "id": "Zn3hDQ-ZsSn0",
        "outputId": "3351cd07-8d8a-4c90-a4cd-095780bff547"
      },
      "outputs": [
        {
          "name": "stdout",
          "output_type": "stream",
          "text": [
            "<class 'pandas.core.frame.DataFrame'>\n",
            "Int64Index: 11813 entries, 0 to 12164\n",
            "Data columns (total 10 columns):\n",
            " #   Column      Non-Null Count  Dtype   \n",
            "---  ------      --------------  -----   \n",
            " 0   hum         11813 non-null  float64 \n",
            " 1   weathersit  11813 non-null  category\n",
            " 2   holiday     11813 non-null  int64   \n",
            " 3   season      11813 non-null  category\n",
            " 4   temp        11813 non-null  float64 \n",
            " 5   hr          11813 non-null  int64   \n",
            " 6   cnt         11813 non-null  int64   \n",
            " 7   weekday     11813 non-null  category\n",
            " 8   month       11813 non-null  int64   \n",
            " 9   year        11813 non-null  int64   \n",
            "dtypes: category(3), float64(2), int64(5)\n",
            "memory usage: 773.7 KB\n"
          ]
        }
      ],
      "source": [
        "df_model.info()"
      ]
    },
    {
      "cell_type": "code",
      "execution_count": 90,
      "metadata": {
        "id": "BVx8e6TZlHy4"
      },
      "outputs": [],
      "source": [
        "# Mengubah fitur kategorikal menjadi numerikal\n",
        "\n",
        "transformer = ColumnTransformer([\n",
        "    ('One Hot', OneHotEncoder(drop='first', handle_unknown='ignore'), ['weathersit', 'season','weekday'])\n",
        "], remainder='passthrough')"
      ]
    },
    {
      "cell_type": "markdown",
      "metadata": {
        "id": "7QDnQZSrsl9r"
      },
      "source": [
        "**Data Splitting**"
      ]
    },
    {
      "cell_type": "code",
      "execution_count": 91,
      "metadata": {
        "id": "MTEG6Mgqsk-i"
      },
      "outputs": [],
      "source": [
        "# Memisahkan data independen variabel dengan target\n",
        "X = df_model.drop(['cnt'], axis=1)\n",
        "y = df_model['cnt']"
      ]
    },
    {
      "cell_type": "markdown",
      "metadata": {
        "id": "qa0LSaudsy6L"
      },
      "source": [
        "**Train and Test Splitting**"
      ]
    },
    {
      "cell_type": "code",
      "execution_count": 92,
      "metadata": {
        "id": "xGr2HtIjs1ir"
      },
      "outputs": [],
      "source": [
        "# Splitting data training dan test dengan proporsi 70:30\n",
        "X_train, X_test, y_train, y_test= train_test_split(\n",
        "    X,\n",
        "    y,  \n",
        "    test_size=0.3,\n",
        "    random_state=2009)"
      ]
    },
    {
      "cell_type": "markdown",
      "metadata": {
        "id": "dq6I7gyGs4sL"
      },
      "source": [
        "#### **Choose a Benchmark Model**"
      ]
    },
    {
      "cell_type": "code",
      "execution_count": 96,
      "metadata": {
        "colab": {
          "base_uri": "https://localhost:8080/"
        },
        "id": "pQuGT2Wes3c5",
        "outputId": "3fc7a1aa-4c15-4516-c8de-9e247bdc966f"
      },
      "outputs": [
        {
          "name": "stdout",
          "output_type": "stream",
          "text": [
            "[-140.66481163 -143.00848927 -139.28197467 -145.69951023 -154.32374639] TransformedTargetRegressor(func=<ufunc 'log'>, inverse_func=<ufunc 'exp'>,\n",
            "                           regressor=LinearRegression())\n",
            "[ -95.15634348  -97.15757405  -95.64982667  -97.69273274 -105.56176696] TransformedTargetRegressor(func=<ufunc 'log'>, inverse_func=<ufunc 'exp'>,\n",
            "                           regressor=LinearRegression())\n",
            "[-1.41293558 -1.24869609 -1.42277212 -1.42153365 -1.4007042 ] TransformedTargetRegressor(func=<ufunc 'log'>, inverse_func=<ufunc 'exp'>,\n",
            "                           regressor=LinearRegression())\n",
            "[-101.75910335 -105.86763989  -99.70644982 -110.53702403 -116.06035781] TransformedTargetRegressor(func=<ufunc 'log'>, inverse_func=<ufunc 'exp'>,\n",
            "                           regressor=KNeighborsRegressor())\n",
            "[-65.69420011 -68.33284986 -66.21858396 -69.18662862 -74.18300313] TransformedTargetRegressor(func=<ufunc 'log'>, inverse_func=<ufunc 'exp'>,\n",
            "                           regressor=KNeighborsRegressor())\n",
            "[-1.09353597 -1.01008965 -1.31387432 -1.21568801 -1.2335845 ] TransformedTargetRegressor(func=<ufunc 'log'>, inverse_func=<ufunc 'exp'>,\n",
            "                           regressor=KNeighborsRegressor())\n",
            "[-64.76862688 -70.72919892 -60.69459089 -66.06964505 -70.80828246] TransformedTargetRegressor(func=<ufunc 'log'>, inverse_func=<ufunc 'exp'>,\n",
            "                           regressor=DecisionTreeRegressor(random_state=2009))\n",
            "[-37.51490616 -41.25942112 -36.59807412 -39.27464395 -41.75223264] TransformedTargetRegressor(func=<ufunc 'log'>, inverse_func=<ufunc 'exp'>,\n",
            "                           regressor=DecisionTreeRegressor(random_state=2009))\n",
            "[-0.39371619 -0.40271233 -0.43270689 -0.41863403 -0.44948038] TransformedTargetRegressor(func=<ufunc 'log'>, inverse_func=<ufunc 'exp'>,\n",
            "                           regressor=DecisionTreeRegressor(random_state=2009))\n",
            "[-45.79274656 -49.73444977 -43.99649425 -52.74280758 -53.05647825] TransformedTargetRegressor(func=<ufunc 'log'>, inverse_func=<ufunc 'exp'>,\n",
            "                           regressor=RandomForestRegressor(random_state=2009))\n",
            "[-28.18653478 -29.83703807 -26.98048212 -30.63775936 -32.52035743] TransformedTargetRegressor(func=<ufunc 'log'>, inverse_func=<ufunc 'exp'>,\n",
            "                           regressor=RandomForestRegressor(random_state=2009))\n",
            "[-0.31637754 -0.28159606 -0.2974286  -0.31000484 -0.31874105] TransformedTargetRegressor(func=<ufunc 'log'>, inverse_func=<ufunc 'exp'>,\n",
            "                           regressor=RandomForestRegressor(random_state=2009))\n",
            "[-40.18592177 -44.29913819 -40.71670616 -44.5118909  -48.23587509] TransformedTargetRegressor(func=<ufunc 'log'>, inverse_func=<ufunc 'exp'>,\n",
            "                           regressor=XGBRegressor(base_score=None, booster=None,\n",
            "                                                  callbacks=None,\n",
            "                                                  colsample_bylevel=None,\n",
            "                                                  colsample_bynode=None,\n",
            "                                                  colsample_bytree=None,\n",
            "                                                  early_stopping_rounds=None,\n",
            "                                                  enable_categorical=False,\n",
            "                                                  eval_metric=None, gamma=None,\n",
            "                                                  gpu_id=None, grow_policy=None,\n",
            "                                                  importance_type=None,\n",
            "                                                  interaction_constraints=None,\n",
            "                                                  learning_rate=None,\n",
            "                                                  max_bin=None,\n",
            "                                                  max_cat_to_onehot=None,\n",
            "                                                  max_delta_step=None,\n",
            "                                                  max_depth=None,\n",
            "                                                  max_leaves=None,\n",
            "                                                  min_child_weight=None,\n",
            "                                                  missing=nan,\n",
            "                                                  monotone_constraints=None,\n",
            "                                                  n_estimators=100, n_jobs=None,\n",
            "                                                  num_parallel_tree=None,\n",
            "                                                  predictor=None,\n",
            "                                                  random_state=2009,\n",
            "                                                  reg_alpha=None,\n",
            "                                                  reg_lambda=None, ...))\n",
            "[-24.71311672 -26.54192133 -25.49731525 -27.2033224  -29.02862865] TransformedTargetRegressor(func=<ufunc 'log'>, inverse_func=<ufunc 'exp'>,\n",
            "                           regressor=XGBRegressor(base_score=None, booster=None,\n",
            "                                                  callbacks=None,\n",
            "                                                  colsample_bylevel=None,\n",
            "                                                  colsample_bynode=None,\n",
            "                                                  colsample_bytree=None,\n",
            "                                                  early_stopping_rounds=None,\n",
            "                                                  enable_categorical=False,\n",
            "                                                  eval_metric=None, gamma=None,\n",
            "                                                  gpu_id=None, grow_policy=None,\n",
            "                                                  importance_type=None,\n",
            "                                                  interaction_constraints=None,\n",
            "                                                  learning_rate=None,\n",
            "                                                  max_bin=None,\n",
            "                                                  max_cat_to_onehot=None,\n",
            "                                                  max_delta_step=None,\n",
            "                                                  max_depth=None,\n",
            "                                                  max_leaves=None,\n",
            "                                                  min_child_weight=None,\n",
            "                                                  missing=nan,\n",
            "                                                  monotone_constraints=None,\n",
            "                                                  n_estimators=100, n_jobs=None,\n",
            "                                                  num_parallel_tree=None,\n",
            "                                                  predictor=None,\n",
            "                                                  random_state=2009,\n",
            "                                                  reg_alpha=None,\n",
            "                                                  reg_lambda=None, ...))\n",
            "[-0.25740047 -0.24663522 -0.27386915 -0.26641263 -0.29010821] TransformedTargetRegressor(func=<ufunc 'log'>, inverse_func=<ufunc 'exp'>,\n",
            "                           regressor=XGBRegressor(base_score=None, booster=None,\n",
            "                                                  callbacks=None,\n",
            "                                                  colsample_bylevel=None,\n",
            "                                                  colsample_bynode=None,\n",
            "                                                  colsample_bytree=None,\n",
            "                                                  early_stopping_rounds=None,\n",
            "                                                  enable_categorical=False,\n",
            "                                                  eval_metric=None, gamma=None,\n",
            "                                                  gpu_id=None, grow_policy=None,\n",
            "                                                  importance_type=None,\n",
            "                                                  interaction_constraints=None,\n",
            "                                                  learning_rate=None,\n",
            "                                                  max_bin=None,\n",
            "                                                  max_cat_to_onehot=None,\n",
            "                                                  max_delta_step=None,\n",
            "                                                  max_depth=None,\n",
            "                                                  max_leaves=None,\n",
            "                                                  min_child_weight=None,\n",
            "                                                  missing=nan,\n",
            "                                                  monotone_constraints=None,\n",
            "                                                  n_estimators=100, n_jobs=None,\n",
            "                                                  num_parallel_tree=None,\n",
            "                                                  predictor=None,\n",
            "                                                  random_state=2009,\n",
            "                                                  reg_alpha=None,\n",
            "                                                  reg_lambda=None, ...))\n"
          ]
        }
      ],
      "source": [
        "# Define algoritma yang digunakan\n",
        "lr = LinearRegression()\n",
        "knn = KNeighborsRegressor()\n",
        "dt = DecisionTreeRegressor(random_state=2009)\n",
        "rf = RandomForestRegressor(random_state=2009)\n",
        "xgb = XGBRegressor(random_state=2009)\n",
        "\n",
        "# Pemodelan dilakukan dalam skala logaritmik, namun kemudian di-inverse kembali untuk interpretasi\n",
        "log_lr = TransformedTargetRegressor(lr, func=np.log, inverse_func=np.exp)\n",
        "log_knn = TransformedTargetRegressor(knn, func=np.log, inverse_func=np.exp)\n",
        "log_dt = TransformedTargetRegressor(dt, func=np.log, inverse_func=np.exp)\n",
        "log_rf = TransformedTargetRegressor(rf, func=np.log, inverse_func=np.exp)\n",
        "log_xgb = TransformedTargetRegressor(xgb, func=np.log, inverse_func=np.exp)\n",
        "\n",
        "# Definisi Scaler\n",
        "scaler = StandardScaler()\n",
        "\n",
        "# Kandidat algoritma\n",
        "models = [log_lr, log_knn, log_dt, log_rf, log_xgb]\n",
        "\n",
        "score_rmse = []\n",
        "nilai_mean_rmse = []\n",
        "nilai_std_rmse = []\n",
        "\n",
        "score_mae = []\n",
        "nilai_mean_mae = []\n",
        "nilai_std_mae = []\n",
        "\n",
        "score_mape = []\n",
        "nilai_mean_mape = []\n",
        "nilai_std_mape = []\n",
        "\n",
        "# Mencari algoritma terbaik berdasarkan nilai MAE\n",
        "for i in models:\n",
        "    \n",
        "    crossval = KFold(n_splits=5, shuffle=True, random_state=1)\n",
        "\n",
        "    estimator = Pipeline([\n",
        "        ('transformer', transformer),\n",
        "        ('scaler', scaler),\n",
        "        ('model', i)\n",
        "    ])\n",
        "\n",
        "    # RMSE\n",
        "    model_cv_rmse = cross_val_score(\n",
        "        estimator, \n",
        "        X_train, \n",
        "        y_train, \n",
        "        cv=crossval, \n",
        "        scoring='neg_root_mean_squared_error', \n",
        "        error_score='raise'\n",
        "        )\n",
        "\n",
        "    print(model_cv_rmse, i)\n",
        "\n",
        "    score_rmse.append(model_cv_rmse)\n",
        "    nilai_mean_rmse.append(model_cv_rmse.mean())\n",
        "    nilai_std_rmse.append(model_cv_rmse.std())\n",
        "\n",
        "    # MAE\n",
        "    model_cv_mae = cross_val_score(\n",
        "        estimator, \n",
        "        X_train, \n",
        "        y_train, \n",
        "        cv=crossval, \n",
        "        scoring='neg_mean_absolute_error', \n",
        "        error_score='raise'\n",
        "        )\n",
        "\n",
        "    print(model_cv_mae, i)\n",
        "\n",
        "    score_mae.append(model_cv_mae)\n",
        "    nilai_mean_mae.append(model_cv_mae.mean())\n",
        "    nilai_std_mae.append(model_cv_mae.std())\n",
        "\n",
        "    # MAPE\n",
        "    model_cv_mape = cross_val_score(\n",
        "        estimator, \n",
        "        X_train, \n",
        "        y_train, \n",
        "        cv=crossval, \n",
        "        scoring='neg_mean_absolute_percentage_error', \n",
        "        error_score='raise'\n",
        "        )\n",
        "\n",
        "    print(model_cv_mape, i)\n",
        "\n",
        "    score_mape.append(model_cv_mape)\n",
        "    nilai_mean_mape.append(model_cv_mape.mean())\n",
        "    nilai_std_mape.append(model_cv_mape.std())"
      ]
    },
    {
      "cell_type": "code",
      "execution_count": 97,
      "metadata": {},
      "outputs": [
        {
          "data": {
            "text/html": [
              "<div>\n",
              "<style scoped>\n",
              "    .dataframe tbody tr th:only-of-type {\n",
              "        vertical-align: middle;\n",
              "    }\n",
              "\n",
              "    .dataframe tbody tr th {\n",
              "        vertical-align: top;\n",
              "    }\n",
              "\n",
              "    .dataframe thead th {\n",
              "        text-align: right;\n",
              "    }\n",
              "</style>\n",
              "<table border=\"1\" class=\"dataframe\">\n",
              "  <thead>\n",
              "    <tr style=\"text-align: right;\">\n",
              "      <th></th>\n",
              "      <th>Model</th>\n",
              "      <th>Mean_RMSE</th>\n",
              "      <th>Std_RMSE</th>\n",
              "      <th>Mean_MAE</th>\n",
              "      <th>Std_MAE</th>\n",
              "      <th>Mean_MAPE</th>\n",
              "      <th>Std_MAPE</th>\n",
              "    </tr>\n",
              "  </thead>\n",
              "  <tbody>\n",
              "    <tr>\n",
              "      <th>0</th>\n",
              "      <td>Linear Regression</td>\n",
              "      <td>-144.595706</td>\n",
              "      <td>5.330292</td>\n",
              "      <td>-98.243649</td>\n",
              "      <td>3.776170</td>\n",
              "      <td>-1.381328</td>\n",
              "      <td>0.066783</td>\n",
              "    </tr>\n",
              "    <tr>\n",
              "      <th>1</th>\n",
              "      <td>KNN Regressor</td>\n",
              "      <td>-106.786115</td>\n",
              "      <td>5.938299</td>\n",
              "      <td>-68.723053</td>\n",
              "      <td>3.020746</td>\n",
              "      <td>-1.173354</td>\n",
              "      <td>0.107881</td>\n",
              "    </tr>\n",
              "    <tr>\n",
              "      <th>2</th>\n",
              "      <td>DecisionTree Regressor</td>\n",
              "      <td>-66.614069</td>\n",
              "      <td>3.828002</td>\n",
              "      <td>-39.279856</td>\n",
              "      <td>2.016847</td>\n",
              "      <td>-0.419450</td>\n",
              "      <td>0.020103</td>\n",
              "    </tr>\n",
              "    <tr>\n",
              "      <th>3</th>\n",
              "      <td>RandomForest Regressor</td>\n",
              "      <td>-49.064595</td>\n",
              "      <td>3.641531</td>\n",
              "      <td>-29.632434</td>\n",
              "      <td>1.924376</td>\n",
              "      <td>-0.304830</td>\n",
              "      <td>0.013771</td>\n",
              "    </tr>\n",
              "    <tr>\n",
              "      <th>4</th>\n",
              "      <td>XGBoost Regressor</td>\n",
              "      <td>-43.589906</td>\n",
              "      <td>2.925081</td>\n",
              "      <td>-26.596861</td>\n",
              "      <td>1.486055</td>\n",
              "      <td>-0.266885</td>\n",
              "      <td>0.014754</td>\n",
              "    </tr>\n",
              "  </tbody>\n",
              "</table>\n",
              "</div>"
            ],
            "text/plain": [
              "                    Model   Mean_RMSE  Std_RMSE   Mean_MAE   Std_MAE  \\\n",
              "0       Linear Regression -144.595706  5.330292 -98.243649  3.776170   \n",
              "1           KNN Regressor -106.786115  5.938299 -68.723053  3.020746   \n",
              "2  DecisionTree Regressor  -66.614069  3.828002 -39.279856  2.016847   \n",
              "3  RandomForest Regressor  -49.064595  3.641531 -29.632434  1.924376   \n",
              "4       XGBoost Regressor  -43.589906  2.925081 -26.596861  1.486055   \n",
              "\n",
              "   Mean_MAPE  Std_MAPE  \n",
              "0  -1.381328  0.066783  \n",
              "1  -1.173354  0.107881  \n",
              "2  -0.419450  0.020103  \n",
              "3  -0.304830  0.013771  \n",
              "4  -0.266885  0.014754  "
            ]
          },
          "execution_count": 97,
          "metadata": {},
          "output_type": "execute_result"
        }
      ],
      "source": [
        "# Evaluasi hasil dari 5 kandidat algoritma yang digunakan kalo weekday onehot\n",
        "pd.DataFrame({\n",
        "    'Model': ['Linear Regression', 'KNN Regressor', 'DecisionTree Regressor', 'RandomForest Regressor', 'XGBoost Regressor'],\n",
        "    'Mean_RMSE': nilai_mean_rmse,\n",
        "    'Std_RMSE': nilai_std_rmse,\n",
        "    'Mean_MAE': nilai_mean_mae,\n",
        "    'Std_MAE': nilai_std_mae,\n",
        "    'Mean_MAPE': nilai_mean_mape,\n",
        "    'Std_MAPE': nilai_std_mape\n",
        "})"
      ]
    },
    {
      "cell_type": "markdown",
      "metadata": {
        "id": "PnknTBIeVkfH"
      },
      "source": [
        "Terdapat perbedaan cukup signifikan antara nilai RMSE dan MAE, di mana nilai RMSE lebih tinggi karena nilai residuals atau error-nya dikuadratkan terlebih dahulu sebelum dirata-ratakan. Hal ini menyebabkan RMSE akan memberikan 'weight' yang lebih tinggi untuk nilai error yang besar. Dengan kata lain, terdapat nilai-nilai error yang besar yang dihasilkan oleh semua algoritma yang digunakan, sehingga ada perbedaan signifikan antara nilai RMSE dan MAE.\n",
        "\n",
        "- Berdasarkan nilai RMSE, MAE, dan MAPE,  2 model terbaik adalah RandomForest dan XGBoost, hal tersebut terlihat dari nilai rata-rata dan std yang lebih rendah dibandingkan model lainnya.\n",
        "- Selanjutnya, akan dilakukan prediksi pada test set dengan benchmark model RandomForest dan XGBoost."
      ]
    },
    {
      "cell_type": "markdown",
      "metadata": {
        "id": "ny0RkfA0lvmO"
      },
      "source": [
        "**Predict to Test Set with the Benchmark Model**\n",
        "\n",
        "Prediksi pada test set dengan menggunakan model XGBoost dan RandomForest"
      ]
    },
    {
      "cell_type": "code",
      "execution_count": 122,
      "metadata": {},
      "outputs": [
        {
          "data": {
            "text/html": [
              "<div>\n",
              "<style scoped>\n",
              "    .dataframe tbody tr th:only-of-type {\n",
              "        vertical-align: middle;\n",
              "    }\n",
              "\n",
              "    .dataframe tbody tr th {\n",
              "        vertical-align: top;\n",
              "    }\n",
              "\n",
              "    .dataframe thead th {\n",
              "        text-align: right;\n",
              "    }\n",
              "</style>\n",
              "<table border=\"1\" class=\"dataframe\">\n",
              "  <thead>\n",
              "    <tr style=\"text-align: right;\">\n",
              "      <th></th>\n",
              "      <th>RMSE</th>\n",
              "      <th>MAE</th>\n",
              "      <th>MAPE</th>\n",
              "    </tr>\n",
              "  </thead>\n",
              "  <tbody>\n",
              "    <tr>\n",
              "      <th>RandomForest</th>\n",
              "      <td>43.667138</td>\n",
              "      <td>26.880957</td>\n",
              "      <td>0.297829</td>\n",
              "    </tr>\n",
              "    <tr>\n",
              "      <th>XGB</th>\n",
              "      <td>39.528571</td>\n",
              "      <td>24.836749</td>\n",
              "      <td>0.255728</td>\n",
              "    </tr>\n",
              "  </tbody>\n",
              "</table>\n",
              "</div>"
            ],
            "text/plain": [
              "                   RMSE        MAE      MAPE\n",
              "RandomForest  43.667138  26.880957  0.297829\n",
              "XGB           39.528571  24.836749  0.255728"
            ]
          },
          "execution_count": 122,
          "metadata": {},
          "output_type": "execute_result"
        }
      ],
      "source": [
        "# Benchmark 2 model terbaik\n",
        "models = {\n",
        "    'RandomForest': TransformedTargetRegressor(RandomForestRegressor(random_state=1), func=np.log, inverse_func=np.exp),\n",
        "    'XGB': TransformedTargetRegressor(XGBRegressor(random_state=1), func=np.log, inverse_func=np.exp)\n",
        "}\n",
        "\n",
        "score_rmse = []\n",
        "score_mae = []\n",
        "score_mape = []\n",
        "\n",
        "# Prediksi pada test set\n",
        "for i in models:\n",
        "\n",
        "    model = Pipeline([\n",
        "        ('transformer', transformer),\n",
        "        ('scaler', scaler),\n",
        "        ('model', models[i])\n",
        "        ])\n",
        "\n",
        "    model.fit(X_train, y_train)\n",
        "    y_pred = model.predict(X_test)\n",
        "    score_rmse.append(np.sqrt(mean_squared_error(y_test, y_pred)))\n",
        "    score_mae.append(mean_absolute_error(y_test, y_pred))\n",
        "    score_mape.append(mean_absolute_percentage_error(y_test, y_pred))\n",
        "\n",
        "score_before_tuning = pd.DataFrame({'RMSE': score_rmse, 'MAE': score_mae, 'MAPE': score_mape}, index=models.keys())\n",
        "score_before_tuning"
      ]
    },
    {
      "cell_type": "markdown",
      "metadata": {
        "id": "UhGbOB3MoYHD"
      },
      "source": [
        "#### **Hyperparameter Tuning**\n",
        "\n",
        "Pada tahap ini, kita akan melakukan hyperparameter tuning pada model XGBoost dengan harapan dapat meningkatkan performa model."
      ]
    },
    {
      "cell_type": "code",
      "execution_count": 113,
      "metadata": {
        "id": "xUYX4wkRocsf"
      },
      "outputs": [],
      "source": [
        "# Kedalaman pohon\n",
        "max_depth = list(np.arange(1, 11))\n",
        "\n",
        "# Learning rate\n",
        "learning_rate = list(np.arange(1, 100)/100)\n",
        "\n",
        "# Jumlah pohon\n",
        "n_estimators = list(np.arange(100, 201))\n",
        "\n",
        "# Jumlah baris tiap pohon (% dari total baris train set)\n",
        "subsample = list(np.arange(2, 10)/10)\n",
        "\n",
        "# Gamma (min_impurity_decrease)\n",
        "gamma = list(np.arange(1, 11)) # Semakin besar nilainya, semakin konservatif/simpel modelnya\n",
        "\n",
        "# Jumlah feature yang digunakan untuk tiap pohon (% dari total kolom train set)\n",
        "colsample_bytree = list(np.arange(1, 10)/10)\n",
        "\n",
        "# Alpha (regularization)\n",
        "reg_alpha = list(np.logspace(-3, 1, 10)) # Semakin besar nilainya, semakin konservatif/simpel modelnya\n",
        "\n",
        "\n",
        "# Hyperparam space XGboost\n",
        "hyperparam_space_xgb = {\n",
        "    'model__max_depth': max_depth, \n",
        "    'model__learning_rate': learning_rate,\n",
        "    'model__n_estimators': n_estimators,\n",
        "    'model__subsample': subsample,\n",
        "    'model__gamma': gamma,\n",
        "    'model__colsample_bytree': colsample_bytree,\n",
        "    'model__reg_alpha': reg_alpha\n",
        "}"
      ]
    },
    {
      "cell_type": "code",
      "execution_count": 119,
      "metadata": {
        "id": "8f3kU9asqUJh"
      },
      "outputs": [],
      "source": [
        "# Benchmark model dengan hyperparameter tuning\n",
        "xgb = XGBRegressor(random_state=1, verbosity=0)\n",
        "\n",
        "# Membuat algorithm chains\n",
        "estimator_xgb = Pipeline([\n",
        "        ('transformer', transformer),\n",
        "        ('scaler', scaler),\n",
        "        ('model', xgb)\n",
        "        ])\n",
        "\n",
        "crossval = KFold(n_splits=5, shuffle=True, random_state=1)\n",
        "\n",
        "# Hyperparameter tuning\n",
        "random_xgb = RandomizedSearchCV(\n",
        "    estimator_xgb, \n",
        "    param_distributions = hyperparam_space_xgb,\n",
        "    n_iter = 50,\n",
        "    cv = crossval, \n",
        "    scoring = ['neg_root_mean_squared_error', 'neg_mean_absolute_error', 'neg_mean_absolute_percentage_error'], \n",
        "    n_jobs = -1,\n",
        "    refit = 'neg_mean_absolute_percentage_error', # Hanya bisa memilih salah stau metric untuk optimisasi\n",
        "    random_state = 1  \n",
        ")"
      ]
    },
    {
      "cell_type": "code",
      "execution_count": 120,
      "metadata": {
        "colab": {
          "base_uri": "https://localhost:8080/"
        },
        "id": "dz5rgPEQqgFD",
        "outputId": "7be4d686-1179-4256-88fc-a728660125df"
      },
      "outputs": [
        {
          "data": {
            "text/html": [
              "<style>#sk-container-id-2 {color: black;background-color: white;}#sk-container-id-2 pre{padding: 0;}#sk-container-id-2 div.sk-toggleable {background-color: white;}#sk-container-id-2 label.sk-toggleable__label {cursor: pointer;display: block;width: 100%;margin-bottom: 0;padding: 0.3em;box-sizing: border-box;text-align: center;}#sk-container-id-2 label.sk-toggleable__label-arrow:before {content: \"▸\";float: left;margin-right: 0.25em;color: #696969;}#sk-container-id-2 label.sk-toggleable__label-arrow:hover:before {color: black;}#sk-container-id-2 div.sk-estimator:hover label.sk-toggleable__label-arrow:before {color: black;}#sk-container-id-2 div.sk-toggleable__content {max-height: 0;max-width: 0;overflow: hidden;text-align: left;background-color: #f0f8ff;}#sk-container-id-2 div.sk-toggleable__content pre {margin: 0.2em;color: black;border-radius: 0.25em;background-color: #f0f8ff;}#sk-container-id-2 input.sk-toggleable__control:checked~div.sk-toggleable__content {max-height: 200px;max-width: 100%;overflow: auto;}#sk-container-id-2 input.sk-toggleable__control:checked~label.sk-toggleable__label-arrow:before {content: \"▾\";}#sk-container-id-2 div.sk-estimator input.sk-toggleable__control:checked~label.sk-toggleable__label {background-color: #d4ebff;}#sk-container-id-2 div.sk-label input.sk-toggleable__control:checked~label.sk-toggleable__label {background-color: #d4ebff;}#sk-container-id-2 input.sk-hidden--visually {border: 0;clip: rect(1px 1px 1px 1px);clip: rect(1px, 1px, 1px, 1px);height: 1px;margin: -1px;overflow: hidden;padding: 0;position: absolute;width: 1px;}#sk-container-id-2 div.sk-estimator {font-family: monospace;background-color: #f0f8ff;border: 1px dotted black;border-radius: 0.25em;box-sizing: border-box;margin-bottom: 0.5em;}#sk-container-id-2 div.sk-estimator:hover {background-color: #d4ebff;}#sk-container-id-2 div.sk-parallel-item::after {content: \"\";width: 100%;border-bottom: 1px solid gray;flex-grow: 1;}#sk-container-id-2 div.sk-label:hover label.sk-toggleable__label {background-color: #d4ebff;}#sk-container-id-2 div.sk-serial::before {content: \"\";position: absolute;border-left: 1px solid gray;box-sizing: border-box;top: 0;bottom: 0;left: 50%;z-index: 0;}#sk-container-id-2 div.sk-serial {display: flex;flex-direction: column;align-items: center;background-color: white;padding-right: 0.2em;padding-left: 0.2em;position: relative;}#sk-container-id-2 div.sk-item {position: relative;z-index: 1;}#sk-container-id-2 div.sk-parallel {display: flex;align-items: stretch;justify-content: center;background-color: white;position: relative;}#sk-container-id-2 div.sk-item::before, #sk-container-id-2 div.sk-parallel-item::before {content: \"\";position: absolute;border-left: 1px solid gray;box-sizing: border-box;top: 0;bottom: 0;left: 50%;z-index: -1;}#sk-container-id-2 div.sk-parallel-item {display: flex;flex-direction: column;z-index: 1;position: relative;background-color: white;}#sk-container-id-2 div.sk-parallel-item:first-child::after {align-self: flex-end;width: 50%;}#sk-container-id-2 div.sk-parallel-item:last-child::after {align-self: flex-start;width: 50%;}#sk-container-id-2 div.sk-parallel-item:only-child::after {width: 0;}#sk-container-id-2 div.sk-dashed-wrapped {border: 1px dashed gray;margin: 0 0.4em 0.5em 0.4em;box-sizing: border-box;padding-bottom: 0.4em;background-color: white;}#sk-container-id-2 div.sk-label label {font-family: monospace;font-weight: bold;display: inline-block;line-height: 1.2em;}#sk-container-id-2 div.sk-label-container {text-align: center;}#sk-container-id-2 div.sk-container {/* jupyter's `normalize.less` sets `[hidden] { display: none; }` but bootstrap.min.css set `[hidden] { display: none !important; }` so we also need the `!important` here to be able to override the default hidden behavior on the sphinx rendered scikit-learn.org. See: https://github.com/scikit-learn/scikit-learn/issues/21755 */display: inline-block !important;position: relative;}#sk-container-id-2 div.sk-text-repr-fallback {display: none;}</style><div id=\"sk-container-id-2\" class=\"sk-top-container\"><div class=\"sk-text-repr-fallback\"><pre>RandomizedSearchCV(cv=KFold(n_splits=5, random_state=1, shuffle=True),\n",
              "                   estimator=Pipeline(steps=[(&#x27;transformer&#x27;,\n",
              "                                              ColumnTransformer(remainder=&#x27;passthrough&#x27;,\n",
              "                                                                transformers=[(&#x27;One &#x27;\n",
              "                                                                               &#x27;Hot&#x27;,\n",
              "                                                                               OneHotEncoder(drop=&#x27;first&#x27;,\n",
              "                                                                                             handle_unknown=&#x27;ignore&#x27;),\n",
              "                                                                               [&#x27;weathersit&#x27;,\n",
              "                                                                                &#x27;season&#x27;,\n",
              "                                                                                &#x27;weekday&#x27;])])),\n",
              "                                             (&#x27;scaler&#x27;, StandardScaler()),\n",
              "                                             (&#x27;model&#x27;,\n",
              "                                              XGBRegressor(base_score=None,\n",
              "                                                           booster=None,\n",
              "                                                           call...\n",
              "                                                             0.007742636826811269,\n",
              "                                                             0.021544346900318832,\n",
              "                                                             0.05994842503189409,\n",
              "                                                             0.1668100537200059,\n",
              "                                                             0.46415888336127775,\n",
              "                                                             1.2915496650148828,\n",
              "                                                             3.593813663804626,\n",
              "                                                             10.0],\n",
              "                                        &#x27;model__subsample&#x27;: [0.2, 0.3, 0.4, 0.5,\n",
              "                                                             0.6, 0.7, 0.8,\n",
              "                                                             0.9]},\n",
              "                   random_state=1, refit=&#x27;neg_mean_absolute_percentage_error&#x27;,\n",
              "                   scoring=[&#x27;neg_root_mean_squared_error&#x27;,\n",
              "                            &#x27;neg_mean_absolute_error&#x27;,\n",
              "                            &#x27;neg_mean_absolute_percentage_error&#x27;])</pre><b>In a Jupyter environment, please rerun this cell to show the HTML representation or trust the notebook. <br />On GitHub, the HTML representation is unable to render, please try loading this page with nbviewer.org.</b></div><div class=\"sk-container\" hidden><div class=\"sk-item sk-dashed-wrapped\"><div class=\"sk-label-container\"><div class=\"sk-label sk-toggleable\"><input class=\"sk-toggleable__control sk-hidden--visually\" id=\"sk-estimator-id-10\" type=\"checkbox\" ><label for=\"sk-estimator-id-10\" class=\"sk-toggleable__label sk-toggleable__label-arrow\">RandomizedSearchCV</label><div class=\"sk-toggleable__content\"><pre>RandomizedSearchCV(cv=KFold(n_splits=5, random_state=1, shuffle=True),\n",
              "                   estimator=Pipeline(steps=[(&#x27;transformer&#x27;,\n",
              "                                              ColumnTransformer(remainder=&#x27;passthrough&#x27;,\n",
              "                                                                transformers=[(&#x27;One &#x27;\n",
              "                                                                               &#x27;Hot&#x27;,\n",
              "                                                                               OneHotEncoder(drop=&#x27;first&#x27;,\n",
              "                                                                                             handle_unknown=&#x27;ignore&#x27;),\n",
              "                                                                               [&#x27;weathersit&#x27;,\n",
              "                                                                                &#x27;season&#x27;,\n",
              "                                                                                &#x27;weekday&#x27;])])),\n",
              "                                             (&#x27;scaler&#x27;, StandardScaler()),\n",
              "                                             (&#x27;model&#x27;,\n",
              "                                              XGBRegressor(base_score=None,\n",
              "                                                           booster=None,\n",
              "                                                           call...\n",
              "                                                             0.007742636826811269,\n",
              "                                                             0.021544346900318832,\n",
              "                                                             0.05994842503189409,\n",
              "                                                             0.1668100537200059,\n",
              "                                                             0.46415888336127775,\n",
              "                                                             1.2915496650148828,\n",
              "                                                             3.593813663804626,\n",
              "                                                             10.0],\n",
              "                                        &#x27;model__subsample&#x27;: [0.2, 0.3, 0.4, 0.5,\n",
              "                                                             0.6, 0.7, 0.8,\n",
              "                                                             0.9]},\n",
              "                   random_state=1, refit=&#x27;neg_mean_absolute_percentage_error&#x27;,\n",
              "                   scoring=[&#x27;neg_root_mean_squared_error&#x27;,\n",
              "                            &#x27;neg_mean_absolute_error&#x27;,\n",
              "                            &#x27;neg_mean_absolute_percentage_error&#x27;])</pre></div></div></div><div class=\"sk-parallel\"><div class=\"sk-parallel-item\"><div class=\"sk-item\"><div class=\"sk-label-container\"><div class=\"sk-label sk-toggleable\"><input class=\"sk-toggleable__control sk-hidden--visually\" id=\"sk-estimator-id-11\" type=\"checkbox\" ><label for=\"sk-estimator-id-11\" class=\"sk-toggleable__label sk-toggleable__label-arrow\">estimator: Pipeline</label><div class=\"sk-toggleable__content\"><pre>Pipeline(steps=[(&#x27;transformer&#x27;,\n",
              "                 ColumnTransformer(remainder=&#x27;passthrough&#x27;,\n",
              "                                   transformers=[(&#x27;One Hot&#x27;,\n",
              "                                                  OneHotEncoder(drop=&#x27;first&#x27;,\n",
              "                                                                handle_unknown=&#x27;ignore&#x27;),\n",
              "                                                  [&#x27;weathersit&#x27;, &#x27;season&#x27;,\n",
              "                                                   &#x27;weekday&#x27;])])),\n",
              "                (&#x27;scaler&#x27;, StandardScaler()),\n",
              "                (&#x27;model&#x27;,\n",
              "                 XGBRegressor(base_score=None, booster=None, callbacks=None,\n",
              "                              colsample_bylevel=None, colsample_bynode=None,\n",
              "                              colsample_bytree=None, ea...\n",
              "                              gamma=None, gpu_id=None, grow_policy=None,\n",
              "                              importance_type=None,\n",
              "                              interaction_constraints=None, learning_rate=None,\n",
              "                              max_bin=None, max_cat_to_onehot=None,\n",
              "                              max_delta_step=None, max_depth=None,\n",
              "                              max_leaves=None, min_child_weight=None,\n",
              "                              missing=nan, monotone_constraints=None,\n",
              "                              n_estimators=100, n_jobs=None,\n",
              "                              num_parallel_tree=None, predictor=None,\n",
              "                              random_state=1, reg_alpha=None, reg_lambda=None, ...))])</pre></div></div></div><div class=\"sk-serial\"><div class=\"sk-item\"><div class=\"sk-serial\"><div class=\"sk-item sk-dashed-wrapped\"><div class=\"sk-label-container\"><div class=\"sk-label sk-toggleable\"><input class=\"sk-toggleable__control sk-hidden--visually\" id=\"sk-estimator-id-12\" type=\"checkbox\" ><label for=\"sk-estimator-id-12\" class=\"sk-toggleable__label sk-toggleable__label-arrow\">transformer: ColumnTransformer</label><div class=\"sk-toggleable__content\"><pre>ColumnTransformer(remainder=&#x27;passthrough&#x27;,\n",
              "                  transformers=[(&#x27;One Hot&#x27;,\n",
              "                                 OneHotEncoder(drop=&#x27;first&#x27;,\n",
              "                                               handle_unknown=&#x27;ignore&#x27;),\n",
              "                                 [&#x27;weathersit&#x27;, &#x27;season&#x27;, &#x27;weekday&#x27;])])</pre></div></div></div><div class=\"sk-parallel\"><div class=\"sk-parallel-item\"><div class=\"sk-item\"><div class=\"sk-label-container\"><div class=\"sk-label sk-toggleable\"><input class=\"sk-toggleable__control sk-hidden--visually\" id=\"sk-estimator-id-13\" type=\"checkbox\" ><label for=\"sk-estimator-id-13\" class=\"sk-toggleable__label sk-toggleable__label-arrow\">One Hot</label><div class=\"sk-toggleable__content\"><pre>[&#x27;weathersit&#x27;, &#x27;season&#x27;, &#x27;weekday&#x27;]</pre></div></div></div><div class=\"sk-serial\"><div class=\"sk-item\"><div class=\"sk-estimator sk-toggleable\"><input class=\"sk-toggleable__control sk-hidden--visually\" id=\"sk-estimator-id-14\" type=\"checkbox\" ><label for=\"sk-estimator-id-14\" class=\"sk-toggleable__label sk-toggleable__label-arrow\">OneHotEncoder</label><div class=\"sk-toggleable__content\"><pre>OneHotEncoder(drop=&#x27;first&#x27;, handle_unknown=&#x27;ignore&#x27;)</pre></div></div></div></div></div></div><div class=\"sk-parallel-item\"><div class=\"sk-item\"><div class=\"sk-label-container\"><div class=\"sk-label sk-toggleable\"><input class=\"sk-toggleable__control sk-hidden--visually\" id=\"sk-estimator-id-15\" type=\"checkbox\" ><label for=\"sk-estimator-id-15\" class=\"sk-toggleable__label sk-toggleable__label-arrow\">remainder</label><div class=\"sk-toggleable__content\"><pre>[&#x27;hum&#x27;, &#x27;holiday&#x27;, &#x27;temp&#x27;, &#x27;hr&#x27;, &#x27;month&#x27;, &#x27;year&#x27;]</pre></div></div></div><div class=\"sk-serial\"><div class=\"sk-item\"><div class=\"sk-estimator sk-toggleable\"><input class=\"sk-toggleable__control sk-hidden--visually\" id=\"sk-estimator-id-16\" type=\"checkbox\" ><label for=\"sk-estimator-id-16\" class=\"sk-toggleable__label sk-toggleable__label-arrow\">passthrough</label><div class=\"sk-toggleable__content\"><pre>passthrough</pre></div></div></div></div></div></div></div></div><div class=\"sk-item\"><div class=\"sk-estimator sk-toggleable\"><input class=\"sk-toggleable__control sk-hidden--visually\" id=\"sk-estimator-id-17\" type=\"checkbox\" ><label for=\"sk-estimator-id-17\" class=\"sk-toggleable__label sk-toggleable__label-arrow\">StandardScaler</label><div class=\"sk-toggleable__content\"><pre>StandardScaler()</pre></div></div></div><div class=\"sk-item\"><div class=\"sk-estimator sk-toggleable\"><input class=\"sk-toggleable__control sk-hidden--visually\" id=\"sk-estimator-id-18\" type=\"checkbox\" ><label for=\"sk-estimator-id-18\" class=\"sk-toggleable__label sk-toggleable__label-arrow\">XGBRegressor</label><div class=\"sk-toggleable__content\"><pre>XGBRegressor(base_score=None, booster=None, callbacks=None,\n",
              "             colsample_bylevel=None, colsample_bynode=None,\n",
              "             colsample_bytree=None, early_stopping_rounds=None,\n",
              "             enable_categorical=False, eval_metric=None, gamma=None,\n",
              "             gpu_id=None, grow_policy=None, importance_type=None,\n",
              "             interaction_constraints=None, learning_rate=None, max_bin=None,\n",
              "             max_cat_to_onehot=None, max_delta_step=None, max_depth=None,\n",
              "             max_leaves=None, min_child_weight=None, missing=nan,\n",
              "             monotone_constraints=None, n_estimators=100, n_jobs=None,\n",
              "             num_parallel_tree=None, predictor=None, random_state=1,\n",
              "             reg_alpha=None, reg_lambda=None, ...)</pre></div></div></div></div></div></div></div></div></div></div></div></div>"
            ],
            "text/plain": [
              "RandomizedSearchCV(cv=KFold(n_splits=5, random_state=1, shuffle=True),\n",
              "                   estimator=Pipeline(steps=[('transformer',\n",
              "                                              ColumnTransformer(remainder='passthrough',\n",
              "                                                                transformers=[('One '\n",
              "                                                                               'Hot',\n",
              "                                                                               OneHotEncoder(drop='first',\n",
              "                                                                                             handle_unknown='ignore'),\n",
              "                                                                               ['weathersit',\n",
              "                                                                                'season',\n",
              "                                                                                'weekday'])])),\n",
              "                                             ('scaler', StandardScaler()),\n",
              "                                             ('model',\n",
              "                                              XGBRegressor(base_score=None,\n",
              "                                                           booster=None,\n",
              "                                                           call...\n",
              "                                                             0.007742636826811269,\n",
              "                                                             0.021544346900318832,\n",
              "                                                             0.05994842503189409,\n",
              "                                                             0.1668100537200059,\n",
              "                                                             0.46415888336127775,\n",
              "                                                             1.2915496650148828,\n",
              "                                                             3.593813663804626,\n",
              "                                                             10.0],\n",
              "                                        'model__subsample': [0.2, 0.3, 0.4, 0.5,\n",
              "                                                             0.6, 0.7, 0.8,\n",
              "                                                             0.9]},\n",
              "                   random_state=1, refit='neg_mean_absolute_percentage_error',\n",
              "                   scoring=['neg_root_mean_squared_error',\n",
              "                            'neg_mean_absolute_error',\n",
              "                            'neg_mean_absolute_percentage_error'])"
            ]
          },
          "execution_count": 120,
          "metadata": {},
          "output_type": "execute_result"
        }
      ],
      "source": [
        "# Fitting data training untuk mencari parameter terbaik\n",
        "random_xgb.fit(X_train, y_train)"
      ]
    },
    {
      "cell_type": "code",
      "execution_count": 107,
      "metadata": {
        "colab": {
          "base_uri": "https://localhost:8080/",
          "height": 300
        },
        "id": "VehXQAV6qikK",
        "outputId": "08aad953-2446-4c14-d1f0-96a4fbdaf672"
      },
      "outputs": [
        {
          "data": {
            "text/html": [
              "<div>\n",
              "<style scoped>\n",
              "    .dataframe tbody tr th:only-of-type {\n",
              "        vertical-align: middle;\n",
              "    }\n",
              "\n",
              "    .dataframe tbody tr th {\n",
              "        vertical-align: top;\n",
              "    }\n",
              "\n",
              "    .dataframe thead th {\n",
              "        text-align: right;\n",
              "    }\n",
              "</style>\n",
              "<table border=\"1\" class=\"dataframe\">\n",
              "  <thead>\n",
              "    <tr style=\"text-align: right;\">\n",
              "      <th></th>\n",
              "      <th>mean_fit_time</th>\n",
              "      <th>std_fit_time</th>\n",
              "      <th>mean_score_time</th>\n",
              "      <th>std_score_time</th>\n",
              "      <th>param_model__subsample</th>\n",
              "      <th>param_model__reg_alpha</th>\n",
              "      <th>param_model__n_estimators</th>\n",
              "      <th>param_model__max_depth</th>\n",
              "      <th>param_model__learning_rate</th>\n",
              "      <th>param_model__gamma</th>\n",
              "      <th>...</th>\n",
              "      <th>std_test_neg_mean_absolute_error</th>\n",
              "      <th>rank_test_neg_mean_absolute_error</th>\n",
              "      <th>split0_test_neg_mean_absolute_percentage_error</th>\n",
              "      <th>split1_test_neg_mean_absolute_percentage_error</th>\n",
              "      <th>split2_test_neg_mean_absolute_percentage_error</th>\n",
              "      <th>split3_test_neg_mean_absolute_percentage_error</th>\n",
              "      <th>split4_test_neg_mean_absolute_percentage_error</th>\n",
              "      <th>mean_test_neg_mean_absolute_percentage_error</th>\n",
              "      <th>std_test_neg_mean_absolute_percentage_error</th>\n",
              "      <th>rank_test_neg_mean_absolute_percentage_error</th>\n",
              "    </tr>\n",
              "  </thead>\n",
              "  <tbody>\n",
              "    <tr>\n",
              "      <th>7</th>\n",
              "      <td>1.396534</td>\n",
              "      <td>0.059753</td>\n",
              "      <td>0.019523</td>\n",
              "      <td>0.002817</td>\n",
              "      <td>0.9</td>\n",
              "      <td>0.059948</td>\n",
              "      <td>119</td>\n",
              "      <td>8</td>\n",
              "      <td>0.05</td>\n",
              "      <td>5</td>\n",
              "      <td>...</td>\n",
              "      <td>0.491850</td>\n",
              "      <td>1</td>\n",
              "      <td>-0.478122</td>\n",
              "      <td>-0.475180</td>\n",
              "      <td>-0.524183</td>\n",
              "      <td>-0.487421</td>\n",
              "      <td>-0.421813</td>\n",
              "      <td>-0.477344</td>\n",
              "      <td>0.032816</td>\n",
              "      <td>1</td>\n",
              "    </tr>\n",
              "    <tr>\n",
              "      <th>17</th>\n",
              "      <td>1.680437</td>\n",
              "      <td>0.043831</td>\n",
              "      <td>0.017394</td>\n",
              "      <td>0.001356</td>\n",
              "      <td>0.6</td>\n",
              "      <td>0.001</td>\n",
              "      <td>190</td>\n",
              "      <td>5</td>\n",
              "      <td>0.04</td>\n",
              "      <td>9</td>\n",
              "      <td>...</td>\n",
              "      <td>1.124150</td>\n",
              "      <td>6</td>\n",
              "      <td>-0.612354</td>\n",
              "      <td>-0.554114</td>\n",
              "      <td>-0.596831</td>\n",
              "      <td>-0.597583</td>\n",
              "      <td>-0.563775</td>\n",
              "      <td>-0.584931</td>\n",
              "      <td>0.022140</td>\n",
              "      <td>2</td>\n",
              "    </tr>\n",
              "    <tr>\n",
              "      <th>4</th>\n",
              "      <td>2.472963</td>\n",
              "      <td>0.084585</td>\n",
              "      <td>0.027376</td>\n",
              "      <td>0.001502</td>\n",
              "      <td>0.9</td>\n",
              "      <td>10.0</td>\n",
              "      <td>188</td>\n",
              "      <td>9</td>\n",
              "      <td>0.79</td>\n",
              "      <td>9</td>\n",
              "      <td>...</td>\n",
              "      <td>0.333455</td>\n",
              "      <td>8</td>\n",
              "      <td>-0.714859</td>\n",
              "      <td>-0.600964</td>\n",
              "      <td>-0.648130</td>\n",
              "      <td>-0.701375</td>\n",
              "      <td>-0.630464</td>\n",
              "      <td>-0.659158</td>\n",
              "      <td>0.042934</td>\n",
              "      <td>3</td>\n",
              "    </tr>\n",
              "    <tr>\n",
              "      <th>43</th>\n",
              "      <td>1.180168</td>\n",
              "      <td>0.009348</td>\n",
              "      <td>0.015595</td>\n",
              "      <td>0.000800</td>\n",
              "      <td>0.5</td>\n",
              "      <td>0.16681</td>\n",
              "      <td>172</td>\n",
              "      <td>5</td>\n",
              "      <td>0.31</td>\n",
              "      <td>7</td>\n",
              "      <td>...</td>\n",
              "      <td>0.987229</td>\n",
              "      <td>3</td>\n",
              "      <td>-0.675029</td>\n",
              "      <td>-0.598581</td>\n",
              "      <td>-0.646512</td>\n",
              "      <td>-0.727233</td>\n",
              "      <td>-0.738952</td>\n",
              "      <td>-0.677262</td>\n",
              "      <td>0.051854</td>\n",
              "      <td>4</td>\n",
              "    </tr>\n",
              "    <tr>\n",
              "      <th>8</th>\n",
              "      <td>1.198159</td>\n",
              "      <td>0.037357</td>\n",
              "      <td>0.017794</td>\n",
              "      <td>0.000748</td>\n",
              "      <td>0.7</td>\n",
              "      <td>0.021544</td>\n",
              "      <td>182</td>\n",
              "      <td>6</td>\n",
              "      <td>0.31</td>\n",
              "      <td>2</td>\n",
              "      <td>...</td>\n",
              "      <td>0.764090</td>\n",
              "      <td>2</td>\n",
              "      <td>-0.734688</td>\n",
              "      <td>-0.633373</td>\n",
              "      <td>-0.664875</td>\n",
              "      <td>-0.727555</td>\n",
              "      <td>-0.639052</td>\n",
              "      <td>-0.679908</td>\n",
              "      <td>0.043201</td>\n",
              "      <td>5</td>\n",
              "    </tr>\n",
              "  </tbody>\n",
              "</table>\n",
              "<p>5 rows × 36 columns</p>\n",
              "</div>"
            ],
            "text/plain": [
              "    mean_fit_time  std_fit_time  mean_score_time  std_score_time  \\\n",
              "7        1.396534      0.059753         0.019523        0.002817   \n",
              "17       1.680437      0.043831         0.017394        0.001356   \n",
              "4        2.472963      0.084585         0.027376        0.001502   \n",
              "43       1.180168      0.009348         0.015595        0.000800   \n",
              "8        1.198159      0.037357         0.017794        0.000748   \n",
              "\n",
              "   param_model__subsample param_model__reg_alpha param_model__n_estimators  \\\n",
              "7                     0.9               0.059948                       119   \n",
              "17                    0.6                  0.001                       190   \n",
              "4                     0.9                   10.0                       188   \n",
              "43                    0.5                0.16681                       172   \n",
              "8                     0.7               0.021544                       182   \n",
              "\n",
              "   param_model__max_depth param_model__learning_rate param_model__gamma  ...  \\\n",
              "7                       8                       0.05                  5  ...   \n",
              "17                      5                       0.04                  9  ...   \n",
              "4                       9                       0.79                  9  ...   \n",
              "43                      5                       0.31                  7  ...   \n",
              "8                       6                       0.31                  2  ...   \n",
              "\n",
              "   std_test_neg_mean_absolute_error rank_test_neg_mean_absolute_error  \\\n",
              "7                          0.491850                                 1   \n",
              "17                         1.124150                                 6   \n",
              "4                          0.333455                                 8   \n",
              "43                         0.987229                                 3   \n",
              "8                          0.764090                                 2   \n",
              "\n",
              "    split0_test_neg_mean_absolute_percentage_error  \\\n",
              "7                                        -0.478122   \n",
              "17                                       -0.612354   \n",
              "4                                        -0.714859   \n",
              "43                                       -0.675029   \n",
              "8                                        -0.734688   \n",
              "\n",
              "    split1_test_neg_mean_absolute_percentage_error  \\\n",
              "7                                        -0.475180   \n",
              "17                                       -0.554114   \n",
              "4                                        -0.600964   \n",
              "43                                       -0.598581   \n",
              "8                                        -0.633373   \n",
              "\n",
              "    split2_test_neg_mean_absolute_percentage_error  \\\n",
              "7                                        -0.524183   \n",
              "17                                       -0.596831   \n",
              "4                                        -0.648130   \n",
              "43                                       -0.646512   \n",
              "8                                        -0.664875   \n",
              "\n",
              "    split3_test_neg_mean_absolute_percentage_error  \\\n",
              "7                                        -0.487421   \n",
              "17                                       -0.597583   \n",
              "4                                        -0.701375   \n",
              "43                                       -0.727233   \n",
              "8                                        -0.727555   \n",
              "\n",
              "    split4_test_neg_mean_absolute_percentage_error  \\\n",
              "7                                        -0.421813   \n",
              "17                                       -0.563775   \n",
              "4                                        -0.630464   \n",
              "43                                       -0.738952   \n",
              "8                                        -0.639052   \n",
              "\n",
              "    mean_test_neg_mean_absolute_percentage_error  \\\n",
              "7                                      -0.477344   \n",
              "17                                     -0.584931   \n",
              "4                                      -0.659158   \n",
              "43                                     -0.677262   \n",
              "8                                      -0.679908   \n",
              "\n",
              "    std_test_neg_mean_absolute_percentage_error  \\\n",
              "7                                      0.032816   \n",
              "17                                     0.022140   \n",
              "4                                      0.042934   \n",
              "43                                     0.051854   \n",
              "8                                      0.043201   \n",
              "\n",
              "    rank_test_neg_mean_absolute_percentage_error  \n",
              "7                                              1  \n",
              "17                                             2  \n",
              "4                                              3  \n",
              "43                                             4  \n",
              "8                                              5  \n",
              "\n",
              "[5 rows x 36 columns]"
            ]
          },
          "execution_count": 107,
          "metadata": {},
          "output_type": "execute_result"
        }
      ],
      "source": [
        "# Melihat hasil tuning dalam bentuk dataframe. Diurutkan berdasarkan RMSE, MAE & MAPE\n",
        "pd.DataFrame(random_xgb.cv_results_).sort_values(by='rank_test_neg_mean_absolute_percentage_error').head()"
      ]
    },
    {
      "cell_type": "code",
      "execution_count": 108,
      "metadata": {
        "colab": {
          "base_uri": "https://localhost:8080/"
        },
        "id": "6lF_li3ero0L",
        "outputId": "2b8acd44-1803-4da3-f6ba-5da69aa76876"
      },
      "outputs": [
        {
          "name": "stdout",
          "output_type": "stream",
          "text": [
            "XGBoost\n",
            "Best_score: -0.47734366183246735\n",
            "Best_params: {'model__subsample': 0.9, 'model__reg_alpha': 0.05994842503189409, 'model__n_estimators': 119, 'model__max_depth': 8, 'model__learning_rate': 0.05, 'model__gamma': 5, 'model__colsample_bytree': 0.8}\n"
          ]
        }
      ],
      "source": [
        "# Cek skor dan params terbaik\n",
        "print('XGBoost')\n",
        "print('Best_score:', random_xgb.best_score_)\n",
        "print('Best_params:', random_xgb.best_params_)"
      ]
    },
    {
      "cell_type": "markdown",
      "metadata": {
        "id": "W2dtvi54ZisL"
      },
      "source": [
        "**Predict to Test Set with the Tuned Model**\n",
        "\n",
        "Melakukan prediksi pada test set dengan menggunakan model XGBoost dan hyperparameter terpilih."
      ]
    },
    {
      "cell_type": "code",
      "execution_count": 110,
      "metadata": {
        "colab": {
          "base_uri": "https://localhost:8080/",
          "height": 81
        },
        "id": "R2-4BFuKrvfo",
        "outputId": "3766104c-9216-413d-c37c-765c12ed674f"
      },
      "outputs": [
        {
          "data": {
            "text/html": [
              "<div>\n",
              "<style scoped>\n",
              "    .dataframe tbody tr th:only-of-type {\n",
              "        vertical-align: middle;\n",
              "    }\n",
              "\n",
              "    .dataframe tbody tr th {\n",
              "        vertical-align: top;\n",
              "    }\n",
              "\n",
              "    .dataframe thead th {\n",
              "        text-align: right;\n",
              "    }\n",
              "</style>\n",
              "<table border=\"1\" class=\"dataframe\">\n",
              "  <thead>\n",
              "    <tr style=\"text-align: right;\">\n",
              "      <th></th>\n",
              "      <th>RMSE</th>\n",
              "      <th>MAE</th>\n",
              "      <th>MAPE</th>\n",
              "    </tr>\n",
              "  </thead>\n",
              "  <tbody>\n",
              "    <tr>\n",
              "      <th>XGB</th>\n",
              "      <td>42.987601</td>\n",
              "      <td>27.080498</td>\n",
              "      <td>0.390707</td>\n",
              "    </tr>\n",
              "  </tbody>\n",
              "</table>\n",
              "</div>"
            ],
            "text/plain": [
              "          RMSE        MAE      MAPE\n",
              "XGB  42.987601  27.080498  0.390707"
            ]
          },
          "execution_count": 110,
          "metadata": {},
          "output_type": "execute_result"
        }
      ],
      "source": [
        "# Model XGBoost\n",
        "model = {'XGB': TransformedTargetRegressor(XGBRegressor(random_state=1), func=np.log, inverse_func=np.exp)}\n",
        "\n",
        "# Define model terhadap estimator terbaik\n",
        "xgb_tuning = random_xgb.best_estimator_\n",
        "\n",
        "# Fitting model\n",
        "xgb_tuning.fit(X_train, y_train)\n",
        "\n",
        "# Predict test set\n",
        "y_pred_xgb_tuning = xgb_tuning.predict(X_test)\n",
        "\n",
        "# Simpan nilai metrics RMSE, MAE & MAPE setelah tuning\n",
        "rmse_xgb_tuning = np.sqrt(mean_squared_error(y_test, y_pred_xgb_tuning))\n",
        "mae_xgb_tuning = mean_absolute_error(y_test, y_pred_xgb_tuning)\n",
        "mape_xgb_tuning = mean_absolute_percentage_error(y_test, y_pred_xgb_tuning)\n",
        "\n",
        "score_after_tuning = pd.DataFrame({'RMSE': rmse_xgb_tuning, 'MAE': mae_xgb_tuning, 'MAPE': mape_xgb_tuning}, index=model.keys())\n",
        "score_after_tuning"
      ]
    },
    {
      "cell_type": "markdown",
      "metadata": {
        "id": "JdMbcENzZryr"
      },
      "source": [
        "**Performance Comparison**\n",
        "\n",
        "Perbandingan performa model XGBoost sebelum dan sesudah dilakukan hyperparameter tuning."
      ]
    },
    {
      "cell_type": "code",
      "execution_count": 111,
      "metadata": {
        "colab": {
          "base_uri": "https://localhost:8080/",
          "height": 81
        },
        "id": "ZAXJYQJHyrZB",
        "outputId": "041f7ec6-16f7-44a2-b5d4-e369a4532eac"
      },
      "outputs": [
        {
          "data": {
            "text/html": [
              "<div>\n",
              "<style scoped>\n",
              "    .dataframe tbody tr th:only-of-type {\n",
              "        vertical-align: middle;\n",
              "    }\n",
              "\n",
              "    .dataframe tbody tr th {\n",
              "        vertical-align: top;\n",
              "    }\n",
              "\n",
              "    .dataframe thead th {\n",
              "        text-align: right;\n",
              "    }\n",
              "</style>\n",
              "<table border=\"1\" class=\"dataframe\">\n",
              "  <thead>\n",
              "    <tr style=\"text-align: right;\">\n",
              "      <th></th>\n",
              "      <th>RMSE</th>\n",
              "      <th>MAE</th>\n",
              "      <th>MAPE</th>\n",
              "    </tr>\n",
              "  </thead>\n",
              "  <tbody>\n",
              "    <tr>\n",
              "      <th>XGB</th>\n",
              "      <td>39.528571</td>\n",
              "      <td>24.836749</td>\n",
              "      <td>0.255728</td>\n",
              "    </tr>\n",
              "  </tbody>\n",
              "</table>\n",
              "</div>"
            ],
            "text/plain": [
              "          RMSE        MAE      MAPE\n",
              "XGB  39.528571  24.836749  0.255728"
            ]
          },
          "execution_count": 111,
          "metadata": {},
          "output_type": "execute_result"
        }
      ],
      "source": [
        "# Sebelum hyperparameter tuning\n",
        "pd.DataFrame(score_before_tuning.loc['XGB']).T"
      ]
    },
    {
      "cell_type": "code",
      "execution_count": 112,
      "metadata": {
        "colab": {
          "base_uri": "https://localhost:8080/",
          "height": 81
        },
        "id": "zLD8JINRy1_g",
        "outputId": "28dd5df3-1966-4cf4-91bc-851f6577dbe4"
      },
      "outputs": [
        {
          "data": {
            "text/html": [
              "<div>\n",
              "<style scoped>\n",
              "    .dataframe tbody tr th:only-of-type {\n",
              "        vertical-align: middle;\n",
              "    }\n",
              "\n",
              "    .dataframe tbody tr th {\n",
              "        vertical-align: top;\n",
              "    }\n",
              "\n",
              "    .dataframe thead th {\n",
              "        text-align: right;\n",
              "    }\n",
              "</style>\n",
              "<table border=\"1\" class=\"dataframe\">\n",
              "  <thead>\n",
              "    <tr style=\"text-align: right;\">\n",
              "      <th></th>\n",
              "      <th>RMSE</th>\n",
              "      <th>MAE</th>\n",
              "      <th>MAPE</th>\n",
              "    </tr>\n",
              "  </thead>\n",
              "  <tbody>\n",
              "    <tr>\n",
              "      <th>XGB</th>\n",
              "      <td>42.987601</td>\n",
              "      <td>27.080498</td>\n",
              "      <td>0.390707</td>\n",
              "    </tr>\n",
              "  </tbody>\n",
              "</table>\n",
              "</div>"
            ],
            "text/plain": [
              "          RMSE        MAE      MAPE\n",
              "XGB  42.987601  27.080498  0.390707"
            ]
          },
          "execution_count": 112,
          "metadata": {},
          "output_type": "execute_result"
        }
      ],
      "source": [
        "# Setelah hyperparameter tuning\n",
        "score_after_tuning"
      ]
    },
    {
      "cell_type": "markdown",
      "metadata": {
        "id": "iFLP8X79ZuUG"
      },
      "source": [
        "Model mengalami penurunan performa (nilai RMSE, MAE & MAPE meningkat) dengan dilakukannya hyperparameter tuning.\n",
        "- RMSE, MAE & MAPE sebelum tuning: 39.52, 24.83, 0.255\n",
        "- RMSE, MAE & MAPE setelah tuning: 42.98, 27.08, 0.399\n",
        "\n",
        "Berdasarkan perbandingan di atas, maka model akhir yang dipilih ialah XGBoost before tuning. Penerapan hyperparameter tuning pada kasus ini belum dapat memberikan dampak yang baik. penerapan dengan pilihan parameter yang lebih banyak / menggunakan metode hyperparameter yang lain mungkin saja dapat meningkatkan score model ini."
      ]
    },
    {
      "cell_type": "code",
      "execution_count": 123,
      "metadata": {
        "colab": {
          "base_uri": "https://localhost:8080/",
          "height": 513
        },
        "id": "jot5hq72zC_w",
        "outputId": "e9380763-d5be-4494-ec1d-875035bb09fb"
      },
      "outputs": [
        {
          "data": {
            "image/png": "[encoded data removed]",
            "text/plain": [
              "<Figure size 1008x576 with 1 Axes>"
            ]
          },
          "metadata": {
            "needs_background": "light"
          },
          "output_type": "display_data"
        }
      ],
      "source": [
        "plt.figure(figsize=(14, 8))\n",
        "plot = sns.scatterplot(x=y_test, y=y_pred).set(title='Actual vs. Prediction Count Rental', \n",
        "                                               xlabel='Actual Count Rental', \n",
        "                                               ylabel='Predicted Count Rental');"
      ]
    },
    {
      "cell_type": "markdown",
      "metadata": {
        "id": "VgNcYPxyaFdl"
      },
      "source": [
        "Adanya nilai-nilai error yang besar membuat perbedaan yang cukup signifikan antara nilai RMSE dan MAE. Hal ini dapat tergambarkan pula pada plot di atas, di mana terdapat jumlah rental aktual yang rendah tapi diprediksi jauh lebih tinggi (overestimation), dan juga sebaliknya (underestimation). Selain itu, nilai MAPE yang didapat, yaitu sekitar 25% menjadikan model ini dapat dikategorikan ke dalam 'reasonable forecasting' (Lewis, 1982).\n",
        "\n",
        "*Source: Lewis, C. D. (1982). Industrial and business forecasting methods: A practical guide to exponential smoothing and curve fitting*"
      ]
    },
    {
      "cell_type": "code",
      "execution_count": 125,
      "metadata": {
        "colab": {
          "base_uri": "https://localhost:8080/",
          "height": 298
        },
        "id": "8daCXqpLzUAh",
        "outputId": "dd3c7c4d-3160-4d56-bcbf-01b2f56be038"
      },
      "outputs": [
        {
          "data": {
            "text/plain": [
              "<AxesSubplot:title={'center':'Feature Importances'}>"
            ]
          },
          "execution_count": 125,
          "metadata": {},
          "output_type": "execute_result"
        },
        {
          "data": {
            "image/png": "[encoded data removed]",
            "text/plain": [
              "<Figure size 432x288 with 1 Axes>"
            ]
          },
          "metadata": {
            "needs_background": "light"
          },
          "output_type": "display_data"
        }
      ],
      "source": [
        "# Plot feature importances\n",
        "feature_imp = pd.Series(xgb_tuning['model'].feature_importances_,transformer.get_feature_names()).sort_values(ascending = False)\n",
        "feature_imp.plot(kind='barh', title='Feature Importances')"
      ]
    },
    {
      "cell_type": "markdown",
      "metadata": {
        "id": "bBrrCKqjmusv"
      },
      "source": [
        "Berdasarkan grafik feature imporances di atas, dapat diketahui bahwa tiga fitur yang sangat berpengaruh terhadap jumlah rental sepeda adalah jam (hr), year (tahun), dan weekday (hari)"
      ]
    },
    {
      "cell_type": "markdown",
      "metadata": {
        "id": "xajHoYKYmyC5"
      },
      "source": [
        "### **Conclusion**"
      ]
    },
    {
      "cell_type": "markdown",
      "metadata": {
        "id": "l-9v68PNm2D_"
      },
      "source": [
        "\n",
        "\n",
        "*   Berdasarkan pemodelan yang telah dilakukan, jam merupakan fitur yang paling berpengaruh terhadap jumlah rental sepeda, dilanjutkan dengan tahun dan hari.\n",
        "*   Metrik evaluasi yang digunakan pada model adalah nilai RMSE, MAE & MAPE. Jika ditinjau dari nilai RMSE yang dihasilkan oleh model, yaitu sebesar 42.9, kita dapat menyimpulkan bahwa bila nanti model yang kita buat ini digunakan untuk memperkirakan jumlah rental sepeda baru pada rentang nilai seperti yang dilatih terhadap model (maksimal jumlah rental sepeda 645), maka perkiraan jumlah rental sepedanya rata-rata akan meleset kurang lebih sebesar 42.9 dari jumlah rental sepeda yang mungkin seharusnya. Tetapi, tidak menutup kemungkinan juga prediksinya meleset lebih jauh karena bias yang dihasilkan model masih cukup tinggi bila dilihat dari visualisasi antara jumlah rental sepeda aktual dan prediksi."
      ]
    },
    {
      "cell_type": "markdown",
      "metadata": {
        "id": "XddmyMmcocYK"
      },
      "source": [
        "### **Recommendation**"
      ]
    },
    {
      "cell_type": "markdown",
      "metadata": {
        "id": "4JCIE57BogV8"
      },
      "source": [
        "Hal-hal yang dapat dilakukan untuk mengembangkan model agar lebih baik lagi, seperti:\n",
        "\n",
        "1. Melakukan pengelompokan terhadap prediksi yang nilai error yang tinggi baik yang bersifat overestimation dan underestimation. Selanjutnya, kita dapat mmemeriksa hubungan antara error tersebut dengan tiap variabel independen. Hal tersebut dilakukan untuk mengetahui variabel mana saja dan aspek apa yang menyebabkan model menghasilkan error yang tinggi.\n",
        "<br><br>   \n",
        "1. Model memerlukan penambahan fitur yang lebih korelatif dengan jumlah rental sepeda, terkait karakteristik perilaku pengguna, lokasi, dan biaya rental sepeda. Selain itu, penambahan data terkini terkait rental sepeda juga dapat meningkatkan kualitas model.\n",
        "<br><br>   \n"
      ]
    },
    {
      "cell_type": "markdown",
      "metadata": {
        "id": "yhy5ZOgXvqfv"
      },
      "source": [
        "#### **Save Model**"
      ]
    },
    {
      "cell_type": "code",
      "execution_count": 129,
      "metadata": {
        "id": "32JdEn00vq7k"
      },
      "outputs": [],
      "source": [
        "#Save model\n",
        "import pickle\n",
        "\n",
        "pickle.dump(xgb_tuning, open('Model_Bikesharing_XGB.sav', 'wb'))"
      ]
    },
    {
      "cell_type": "code",
      "execution_count": 127,
      "metadata": {
        "id": "zParQhaGv8uu"
      },
      "outputs": [],
      "source": [
        "#Load model\n",
        "filename = 'Model_Bikesharing_XGB.sav'\n",
        "loaded_model = pickle.load(open(filename, 'rb'))"
      ]
    },
    {
      "cell_type": "code",
      "execution_count": 128,
      "metadata": {
        "colab": {
          "base_uri": "https://localhost:8080/"
        },
        "id": "FXGCNFzpwEpy",
        "outputId": "e7fa2267-c11b-4114-eed0-d8880fd87194"
      },
      "outputs": [
        {
          "data": {
            "text/plain": [
              "42.98760097551463"
            ]
          },
          "execution_count": 128,
          "metadata": {},
          "output_type": "execute_result"
        }
      ],
      "source": [
        "np.sqrt(mean_squared_error(y_test, loaded_model.predict(X_test)))"
      ]
    }
  ],
  "metadata": {
    "colab": {
      "collapsed_sections": [],
      "name": "CapstoneModul3_Yehezkiel Gabriel.ipynb",
      "provenance": []
    },
    "kernelspec": {
      "display_name": "Python 3.10.0 64-bit",
      "language": "python",
      "name": "python3"
    },
    "language_info": {
      "codemirror_mode": {
        "name": "ipython",
        "version": 3
      },
      "file_extension": ".py",
      "mimetype": "text/x-python",
      "name": "python",
      "nbconvert_exporter": "python",
      "pygments_lexer": "ipython3",
      "version": "3.10.0"
    },
    "vscode": {
      "interpreter": {
        "hash": "ad542c208531bc78cb38efb5c4472e540fd13d470830927e07e29df431a9c29f"
      }
    }
  },
  "nbformat": 4,
  "nbformat_minor": 0
}
